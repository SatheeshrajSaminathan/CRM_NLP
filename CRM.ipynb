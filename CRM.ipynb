{
 "cells": [
  {
   "cell_type": "code",
   "execution_count": 1,
   "metadata": {
    "id": "uzumuOR73XO7"
   },
   "outputs": [],
   "source": [
    "import pandas as pd\n",
    "import numpy as np\n",
    "import matplotlib.pyplot as plt\n",
    "import seaborn as sns\n",
    "%matplotlib inline"
   ]
  },
  {
   "cell_type": "code",
   "execution_count": 2,
   "metadata": {
    "colab": {
     "base_uri": "https://localhost:8080/",
     "height": 206
    },
    "id": "Pgp4EcPe8rGm",
    "outputId": "3a9ebe12-86bf-419e-a065-f8b212ddde90"
   },
   "outputs": [
    {
     "data": {
      "text/html": [
       "<div>\n",
       "<style scoped>\n",
       "    .dataframe tbody tr th:only-of-type {\n",
       "        vertical-align: middle;\n",
       "    }\n",
       "\n",
       "    .dataframe tbody tr th {\n",
       "        vertical-align: top;\n",
       "    }\n",
       "\n",
       "    .dataframe thead th {\n",
       "        text-align: right;\n",
       "    }\n",
       "</style>\n",
       "<table border=\"1\" class=\"dataframe\">\n",
       "  <thead>\n",
       "    <tr style=\"text-align: right;\">\n",
       "      <th></th>\n",
       "      <th>Lead Name</th>\n",
       "      <th>Location</th>\n",
       "      <th>Status</th>\n",
       "      <th>Status information</th>\n",
       "    </tr>\n",
       "  </thead>\n",
       "  <tbody>\n",
       "    <tr>\n",
       "      <th>0</th>\n",
       "      <td>Raja</td>\n",
       "      <td>hyderabad</td>\n",
       "      <td>Not Converted</td>\n",
       "      <td>14/8/prema: share me details, available in evn...</td>\n",
       "    </tr>\n",
       "    <tr>\n",
       "      <th>1</th>\n",
       "      <td>Anirudh Reddy</td>\n",
       "      <td>pune</td>\n",
       "      <td>Not Converted</td>\n",
       "      <td>14/8/prema: cal me tmrw, shared details to ema...</td>\n",
       "    </tr>\n",
       "    <tr>\n",
       "      <th>2</th>\n",
       "      <td>Sapna Dewani</td>\n",
       "      <td>bangalore</td>\n",
       "      <td>Converted</td>\n",
       "      <td>16|AuG|moHan:rnr</td>\n",
       "    </tr>\n",
       "    <tr>\n",
       "      <th>3</th>\n",
       "      <td>suresh</td>\n",
       "      <td>mumbai</td>\n",
       "      <td>Not Converted</td>\n",
       "      <td>14/8/17(Surendra):i want only Server 16|AuG|mo...</td>\n",
       "    </tr>\n",
       "    <tr>\n",
       "      <th>4</th>\n",
       "      <td>Akshay Shinde</td>\n",
       "      <td>hyderabad</td>\n",
       "      <td>Not Converted</td>\n",
       "      <td>14/8/prema:rnr 16/8/prema: gave info, he said ...</td>\n",
       "    </tr>\n",
       "  </tbody>\n",
       "</table>\n",
       "</div>"
      ],
      "text/plain": [
       "       Lead Name   Location        Status   \\\n",
       "0           Raja  hyderabad  Not Converted   \n",
       "1  Anirudh Reddy       pune  Not Converted   \n",
       "2   Sapna Dewani  bangalore     Converted    \n",
       "3         suresh     mumbai  Not Converted   \n",
       "4  Akshay Shinde  hyderabad  Not Converted   \n",
       "\n",
       "                                  Status information  \n",
       "0  14/8/prema: share me details, available in evn...  \n",
       "1  14/8/prema: cal me tmrw, shared details to ema...  \n",
       "2                                   16|AuG|moHan:rnr  \n",
       "3  14/8/17(Surendra):i want only Server 16|AuG|mo...  \n",
       "4  14/8/prema:rnr 16/8/prema: gave info, he said ...  "
      ]
     },
     "execution_count": 2,
     "metadata": {},
     "output_type": "execute_result"
    }
   ],
   "source": [
    "data =pd.read_excel(r'C:\\Users\\Gaming PC\\Desktop\\bepec\\ba/1000 leads (1).xlsx')\n",
    "data.head()"
   ]
  },
  {
   "cell_type": "code",
   "execution_count": 3,
   "metadata": {
    "colab": {
     "base_uri": "https://localhost:8080/"
    },
    "id": "B7CCHveY_CWM",
    "outputId": "20b64ba9-3536-4c7f-cb0f-74d9711ae246"
   },
   "outputs": [
    {
     "data": {
      "text/plain": [
       "(1001, 4)"
      ]
     },
     "execution_count": 3,
     "metadata": {},
     "output_type": "execute_result"
    }
   ],
   "source": [
    "data.shape"
   ]
  },
  {
   "cell_type": "code",
   "execution_count": 4,
   "metadata": {
    "colab": {
     "base_uri": "https://localhost:8080/"
    },
    "id": "G1oI9IJZ_I4J",
    "outputId": "e088d2a7-550a-4cf5-a86e-1a7e3f042370"
   },
   "outputs": [
    {
     "name": "stdout",
     "output_type": "stream",
     "text": [
      "<class 'pandas.core.frame.DataFrame'>\n",
      "RangeIndex: 1001 entries, 0 to 1000\n",
      "Data columns (total 4 columns):\n",
      " #   Column              Non-Null Count  Dtype \n",
      "---  ------              --------------  ----- \n",
      " 0   Lead Name           1001 non-null   object\n",
      " 1   Location            980 non-null    object\n",
      " 2   Status              998 non-null    object\n",
      " 3   Status information  977 non-null    object\n",
      "dtypes: object(4)\n",
      "memory usage: 31.4+ KB\n"
     ]
    }
   ],
   "source": [
    "data.info()"
   ]
  },
  {
   "cell_type": "code",
   "execution_count": 5,
   "metadata": {
    "colab": {
     "base_uri": "https://localhost:8080/"
    },
    "id": "zTKF7fQuBALW",
    "outputId": "7962fa73-ce50-48a9-8a15-458a03429f8f"
   },
   "outputs": [
    {
     "data": {
      "text/plain": [
       "Lead Name              0\n",
       "Location              21\n",
       "Status                 3\n",
       "Status information    24\n",
       "dtype: int64"
      ]
     },
     "execution_count": 5,
     "metadata": {},
     "output_type": "execute_result"
    }
   ],
   "source": [
    "# checking for the null values\n",
    "data.isnull().sum()"
   ]
  },
  {
   "cell_type": "code",
   "execution_count": 6,
   "metadata": {
    "colab": {
     "base_uri": "https://localhost:8080/"
    },
    "id": "k0Wcr71uBbc0",
    "outputId": "8c5aa27e-87b4-4033-a7ff-01dfb8f59636"
   },
   "outputs": [
    {
     "data": {
      "text/plain": [
       "0"
      ]
     },
     "execution_count": 6,
     "metadata": {},
     "output_type": "execute_result"
    }
   ],
   "source": [
    "#checking for duplicate values\n",
    "data.duplicated().sum()"
   ]
  },
  {
   "cell_type": "markdown",
   "metadata": {
    "id": "K1muDqtyCPbP"
   },
   "source": [
    "# EDA"
   ]
  },
  {
   "cell_type": "code",
   "execution_count": 7,
   "metadata": {
    "colab": {
     "base_uri": "https://localhost:8080/"
    },
    "id": "NBreDbfaCf2_",
    "outputId": "2b41493f-6f9e-450c-a169-ed7ca4f1480b"
   },
   "outputs": [
    {
     "data": {
      "text/plain": [
       "Index(['Lead Name', 'Location', 'Status ', 'Status information'], dtype='object')"
      ]
     },
     "execution_count": 7,
     "metadata": {},
     "output_type": "execute_result"
    }
   ],
   "source": [
    "data.columns"
   ]
  },
  {
   "cell_type": "code",
   "execution_count": 8,
   "metadata": {
    "colab": {
     "base_uri": "https://localhost:8080/"
    },
    "id": "TpHFjm_xCQYf",
    "outputId": "bfee7a20-0815-4304-ecd2-b9aff877c63b"
   },
   "outputs": [
    {
     "data": {
      "text/plain": [
       "Not Converted    856\n",
       "Converted        124\n",
       "NOt Converted     11\n",
       "Conveted           7\n",
       "Name: Status , dtype: int64"
      ]
     },
     "execution_count": 8,
     "metadata": {},
     "output_type": "execute_result"
    }
   ],
   "source": [
    "data[\"Status \"].value_counts()"
   ]
  },
  {
   "cell_type": "code",
   "execution_count": 9,
   "metadata": {
    "colab": {
     "base_uri": "https://localhost:8080/"
    },
    "id": "bKv2w_ZkDBC1",
    "outputId": "143b1b63-e469-40d6-891a-713c44cc7d15"
   },
   "outputs": [
    {
     "data": {
      "text/plain": [
       "array(['Not Converted', 'Converted ', 'NOt Converted', nan, 'Conveted'],\n",
       "      dtype=object)"
      ]
     },
     "execution_count": 9,
     "metadata": {},
     "output_type": "execute_result"
    }
   ],
   "source": [
    "data[\"Status \"].unique()"
   ]
  },
  {
   "cell_type": "code",
   "execution_count": 10,
   "metadata": {
    "colab": {
     "base_uri": "https://localhost:8080/"
    },
    "id": "YeFjz-hLCycf",
    "outputId": "cc397ded-2298-4ff2-acf3-65c9a7afb1e7"
   },
   "outputs": [
    {
     "data": {
      "text/plain": [
       "Not Converted    867\n",
       "Converted        131\n",
       "Name: Status , dtype: int64"
      ]
     },
     "execution_count": 10,
     "metadata": {},
     "output_type": "execute_result"
    }
   ],
   "source": [
    "data[\"Status \"].replace({\"NOt Converted\": \"Not Converted\", \"Conveted\": \"Converted \"}, inplace=True)\n",
    "data[\"Status \"].value_counts()"
   ]
  },
  {
   "cell_type": "markdown",
   "metadata": {
    "id": "iuglslFLDl9I"
   },
   "source": [
    "Data is imbalanced, we gotta balance it"
   ]
  },
  {
   "cell_type": "code",
   "execution_count": 11,
   "metadata": {
    "colab": {
     "base_uri": "https://localhost:8080/"
    },
    "id": "ugr4elIRDqnT",
    "outputId": "683e9fec-1521-478a-ca30-d197cea7fd44"
   },
   "outputs": [
    {
     "data": {
      "text/plain": [
       "878"
      ]
     },
     "execution_count": 11,
     "metadata": {},
     "output_type": "execute_result"
    }
   ],
   "source": [
    "# lead name\n",
    "len(data[\"Lead Name\"].unique())"
   ]
  },
  {
   "cell_type": "code",
   "execution_count": 12,
   "metadata": {
    "colab": {
     "base_uri": "https://localhost:8080/",
     "height": 565
    },
    "id": "6nd4Rui-FBDd",
    "outputId": "ede14f0a-42b5-43ea-c507-1dd45202daf8"
   },
   "outputs": [
    {
     "name": "stderr",
     "output_type": "stream",
     "text": [
      "C:\\Users\\GAMING~1\\AppData\\Local\\Temp/ipykernel_2100/3471962433.py:3: MatplotlibDeprecationWarning: Case-insensitive properties were deprecated in 3.3 and support will be removed two minor releases later\n",
      "  plt.xticks(Rotation=\"vertical\")\n"
     ]
    },
    {
     "data": {
      "image/png": "[encoded data removed]",
      "text/plain": [
       "<Figure size 1440x540 with 1 Axes>"
      ]
     },
     "metadata": {
      "needs_background": "light"
     },
     "output_type": "display_data"
    }
   ],
   "source": [
    "plt.figure(figsize=(16,6), dpi=90)\n",
    "sns.countplot(data=data, x=\"Location\")\n",
    "plt.xticks(Rotation=\"vertical\")\n",
    "plt.show()"
   ]
  },
  {
   "cell_type": "markdown",
   "metadata": {
    "id": "93SS-XUHJDB5"
   },
   "source": [
    "Fixing the null values in location with mode"
   ]
  },
  {
   "cell_type": "code",
   "execution_count": 13,
   "metadata": {
    "id": "TXNhJoynHD6U"
   },
   "outputs": [],
   "source": [
    "data.loc[data[\"Location\"].isnull(), \"Location\"] = data[\"Location\"].mode()[0]"
   ]
  },
  {
   "cell_type": "code",
   "execution_count": 14,
   "metadata": {
    "colab": {
     "base_uri": "https://localhost:8080/",
     "height": 35
    },
    "id": "aIndqgOZHe80",
    "outputId": "1d51c6f9-4f1e-4270-a3f6-04ac3e17a511"
   },
   "outputs": [
    {
     "data": {
      "text/plain": [
       "'bangalore'"
      ]
     },
     "execution_count": 14,
     "metadata": {},
     "output_type": "execute_result"
    }
   ],
   "source": [
    "data[\"Location\"].mode()[0]"
   ]
  },
  {
   "cell_type": "code",
   "execution_count": 15,
   "metadata": {
    "id": "jfsV3hPeHaSq"
   },
   "outputs": [],
   "source": [
    "# lower casing the location column\n",
    "data[\"Location\"] = data[\"Location\"].apply(lambda x: x.lower())"
   ]
  },
  {
   "cell_type": "code",
   "execution_count": 16,
   "metadata": {
    "id": "oCoha3PNJcDh"
   },
   "outputs": [],
   "source": [
    "# fetching country function\n",
    "def country(x):\n",
    "  if x == \"australia\":\n",
    "    return \"australia\"\n",
    "  elif x == \"usa\":\n",
    "    return \"usa\"\n",
    "  elif x == \"uae\":\n",
    "    return \"uae\"\n",
    "  else:\n",
    "    return \"india\""
   ]
  },
  {
   "cell_type": "code",
   "execution_count": 17,
   "metadata": {
    "id": "ODyiv7a3LcjE"
   },
   "outputs": [],
   "source": [
    "data[\"Country\"] = data[\"Location\"].apply(country)"
   ]
  },
  {
   "cell_type": "code",
   "execution_count": 18,
   "metadata": {
    "colab": {
     "base_uri": "https://localhost:8080/",
     "height": 279
    },
    "id": "cAB3m_t8LprV",
    "outputId": "de58a524-5913-4268-fb93-5f2fbda239f9"
   },
   "outputs": [
    {
     "data": {
      "image/png": "[encoded data removed]",
      "text/plain": [
       "<Figure size 432x288 with 1 Axes>"
      ]
     },
     "metadata": {
      "needs_background": "light"
     },
     "output_type": "display_data"
    }
   ],
   "source": [
    "sns.countplot(data=data, x=\"Country\",hue=\"Status \")\n",
    "plt.legend(loc=\"upper right\")\n",
    "plt.show()"
   ]
  },
  {
   "cell_type": "code",
   "execution_count": 19,
   "metadata": {
    "colab": {
     "base_uri": "https://localhost:8080/",
     "height": 565
    },
    "id": "wrPu2jvoL9nH",
    "outputId": "bf962a9c-ffe2-475a-c58f-0eba04a1ed26"
   },
   "outputs": [
    {
     "name": "stderr",
     "output_type": "stream",
     "text": [
      "C:\\Users\\GAMING~1\\AppData\\Local\\Temp/ipykernel_2100/2982886246.py:4: MatplotlibDeprecationWarning: Case-insensitive properties were deprecated in 3.3 and support will be removed two minor releases later\n",
      "  plt.xticks(Rotation=\"vertical\")\n"
     ]
    },
    {
     "data": {
      "image/png": "[encoded data removed]",
      "text/plain": [
       "<Figure size 1440x540 with 1 Axes>"
      ]
     },
     "metadata": {
      "needs_background": "light"
     },
     "output_type": "display_data"
    }
   ],
   "source": [
    "# lets find out what locations have more num of converted/non converted rate\n",
    "plt.figure(figsize=(16,6), dpi=90)\n",
    "sns.countplot(data=data, x=\"Location\", hue=\"Status \")\n",
    "plt.xticks(Rotation=\"vertical\")\n",
    "plt.legend(loc=\"upper right\")\n",
    "plt.show()"
   ]
  },
  {
   "cell_type": "code",
   "execution_count": 20,
   "metadata": {
    "colab": {
     "base_uri": "https://localhost:8080/",
     "height": 206
    },
    "id": "ghtIgkc954Ta",
    "outputId": "35c6877b-9f17-4b75-de5e-0aedb85c5366"
   },
   "outputs": [
    {
     "data": {
      "text/html": [
       "<div>\n",
       "<style scoped>\n",
       "    .dataframe tbody tr th:only-of-type {\n",
       "        vertical-align: middle;\n",
       "    }\n",
       "\n",
       "    .dataframe tbody tr th {\n",
       "        vertical-align: top;\n",
       "    }\n",
       "\n",
       "    .dataframe thead th {\n",
       "        text-align: right;\n",
       "    }\n",
       "</style>\n",
       "<table border=\"1\" class=\"dataframe\">\n",
       "  <thead>\n",
       "    <tr style=\"text-align: right;\">\n",
       "      <th></th>\n",
       "      <th>Lead Name</th>\n",
       "      <th>Location</th>\n",
       "      <th>Status</th>\n",
       "      <th>Status information</th>\n",
       "      <th>Country</th>\n",
       "    </tr>\n",
       "  </thead>\n",
       "  <tbody>\n",
       "    <tr>\n",
       "      <th>0</th>\n",
       "      <td>Raja</td>\n",
       "      <td>hyderabad</td>\n",
       "      <td>Not Converted</td>\n",
       "      <td>14/8/prema: share me details, available in evn...</td>\n",
       "      <td>india</td>\n",
       "    </tr>\n",
       "    <tr>\n",
       "      <th>1</th>\n",
       "      <td>Anirudh Reddy</td>\n",
       "      <td>pune</td>\n",
       "      <td>Not Converted</td>\n",
       "      <td>14/8/prema: cal me tmrw, shared details to ema...</td>\n",
       "      <td>india</td>\n",
       "    </tr>\n",
       "    <tr>\n",
       "      <th>2</th>\n",
       "      <td>Sapna Dewani</td>\n",
       "      <td>bangalore</td>\n",
       "      <td>Converted</td>\n",
       "      <td>16|AuG|moHan:rnr</td>\n",
       "      <td>india</td>\n",
       "    </tr>\n",
       "    <tr>\n",
       "      <th>3</th>\n",
       "      <td>suresh</td>\n",
       "      <td>mumbai</td>\n",
       "      <td>Not Converted</td>\n",
       "      <td>14/8/17(Surendra):i want only Server 16|AuG|mo...</td>\n",
       "      <td>india</td>\n",
       "    </tr>\n",
       "    <tr>\n",
       "      <th>4</th>\n",
       "      <td>Akshay Shinde</td>\n",
       "      <td>hyderabad</td>\n",
       "      <td>Not Converted</td>\n",
       "      <td>14/8/prema:rnr 16/8/prema: gave info, he said ...</td>\n",
       "      <td>india</td>\n",
       "    </tr>\n",
       "  </tbody>\n",
       "</table>\n",
       "</div>"
      ],
      "text/plain": [
       "       Lead Name   Location        Status   \\\n",
       "0           Raja  hyderabad  Not Converted   \n",
       "1  Anirudh Reddy       pune  Not Converted   \n",
       "2   Sapna Dewani  bangalore     Converted    \n",
       "3         suresh     mumbai  Not Converted   \n",
       "4  Akshay Shinde  hyderabad  Not Converted   \n",
       "\n",
       "                                  Status information Country  \n",
       "0  14/8/prema: share me details, available in evn...   india  \n",
       "1  14/8/prema: cal me tmrw, shared details to ema...   india  \n",
       "2                                   16|AuG|moHan:rnr   india  \n",
       "3  14/8/17(Surendra):i want only Server 16|AuG|mo...   india  \n",
       "4  14/8/prema:rnr 16/8/prema: gave info, he said ...   india  "
      ]
     },
     "execution_count": 20,
     "metadata": {},
     "output_type": "execute_result"
    }
   ],
   "source": [
    "data.head()"
   ]
  },
  {
   "cell_type": "code",
   "execution_count": 21,
   "metadata": {
    "colab": {
     "base_uri": "https://localhost:8080/"
    },
    "id": "jcnaTAY47Bmt",
    "outputId": "fafdc749-e79c-4bca-cb41-c667aa2989ba"
   },
   "outputs": [
    {
     "data": {
      "text/plain": [
       "24"
      ]
     },
     "execution_count": 21,
     "metadata": {},
     "output_type": "execute_result"
    }
   ],
   "source": [
    "data[\"Status information\"].isnull().sum()"
   ]
  },
  {
   "cell_type": "code",
   "execution_count": 22,
   "metadata": {
    "id": "LSZ6ZVtM7fgG"
   },
   "outputs": [],
   "source": [
    "# we will drop the row which have null textual data\n",
    "data.dropna(inplace=True)"
   ]
  },
  {
   "cell_type": "code",
   "execution_count": 23,
   "metadata": {
    "colab": {
     "base_uri": "https://localhost:8080/"
    },
    "id": "0TYXs_Vb8rXL",
    "outputId": "4f01c184-ea61-4cb8-da78-13343c26721a"
   },
   "outputs": [
    {
     "data": {
      "text/plain": [
       "Lead Name             0\n",
       "Location              0\n",
       "Status                0\n",
       "Status information    0\n",
       "Country               0\n",
       "dtype: int64"
      ]
     },
     "execution_count": 23,
     "metadata": {},
     "output_type": "execute_result"
    }
   ],
   "source": [
    "data.isnull().sum()"
   ]
  },
  {
   "cell_type": "code",
   "execution_count": 24,
   "metadata": {
    "id": "hkFXc-zD9CvY"
   },
   "outputs": [],
   "source": [
    "data[\"num_char\"] = data[\"Status information\"].apply(lambda x: len(x))"
   ]
  },
  {
   "cell_type": "code",
   "execution_count": 25,
   "metadata": {
    "colab": {
     "base_uri": "https://localhost:8080/",
     "height": 386
    },
    "id": "HhzKYB7X-Y7-",
    "outputId": "e15ffcd6-9295-44d1-ecba-0d2bcb722f74"
   },
   "outputs": [
    {
     "data": {
      "text/plain": [
       "<Figure size 1080x540 with 0 Axes>"
      ]
     },
     "metadata": {},
     "output_type": "display_data"
    },
    {
     "data": {
      "image/png": "[encoded data removed]",
      "text/plain": [
       "<Figure size 540.25x360 with 1 Axes>"
      ]
     },
     "metadata": {
      "needs_background": "light"
     },
     "output_type": "display_data"
    }
   ],
   "source": [
    "plt.figure(figsize=(12,6), dpi=90)\n",
    "sns.displot(data=data, x=\"num_char\", hue=\"Status \", aspect=1.2)\n",
    "plt.show()"
   ]
  },
  {
   "cell_type": "code",
   "execution_count": 26,
   "metadata": {
    "id": "sCNrzsCdAEyw"
   },
   "outputs": [],
   "source": [
    "# lets try to find the num of words per converstation\n",
    "import nltk"
   ]
  },
  {
   "cell_type": "code",
   "execution_count": 27,
   "metadata": {
    "colab": {
     "base_uri": "https://localhost:8080/"
    },
    "id": "EhE_-MmyAbJf",
    "outputId": "7d26fc86-d268-418b-b90a-2a122686d71c"
   },
   "outputs": [
    {
     "name": "stderr",
     "output_type": "stream",
     "text": [
      "[nltk_data] Downloading package punkt to C:\\Users\\Gaming\n",
      "[nltk_data]     PC\\AppData\\Roaming\\nltk_data...\n",
      "[nltk_data]   Package punkt is already up-to-date!\n"
     ]
    },
    {
     "data": {
      "text/plain": [
       "True"
      ]
     },
     "execution_count": 27,
     "metadata": {},
     "output_type": "execute_result"
    }
   ],
   "source": [
    "nltk.download(\"punkt\")"
   ]
  },
  {
   "cell_type": "code",
   "execution_count": 28,
   "metadata": {
    "colab": {
     "base_uri": "https://localhost:8080/"
    },
    "id": "25Lga2PXAjaS",
    "outputId": "862dabbd-1236-4685-8696-b4597e348255"
   },
   "outputs": [
    {
     "name": "stdout",
     "output_type": "stream",
     "text": [
      "14/8/prema: share me details, available in evng 18/8/prema: postponed the plans for training currently 9/11/prema: not interested now\n",
      "14/8/prema: cal me tmrw, shared details to email 16/8/prema: share details to email, will check n revert 18/8/prema: received your email, i'm looking for ASQ certification\n",
      "16|AuG|moHan:rnr\n",
      "14/8/17(Surendra):i want only Server 16|AuG|moHan:cal busy 17|AuG|moHan:reg for server\n",
      "14/8/prema:rnr 16/8/prema: gave info, he said he will revert in 1hr 30/8/prema: planning for next month, share details\n",
      "12/8/17(Surendra):i will check demo(attended demo) 14/8/17(Surendra):i will get back 17/8/17(Surendra):i will think and respond 23/11/17(Surendra):not interested\n",
      "14/8/17(Surendra):asking code\n",
      "11|aUg|moHan:mail shred for ML Tensorflow corprt 16|AuG|moHan:shared but rnr\n",
      "11|AuG|moHan:askng code\n",
      "11/8/prema: RNR 11/8/prema: share me tableau recorded session check n revert 12/8/prema: not reachable 14/8/prema: RNR 16/8/prema: have rotational shifts, will check details n confirm 17/8/prema: rnr 17/8/surendra: i will confirm by tmrw 18/8/prema: rnr 22/8/prema: share me details of webinar on 23rd\n"
     ]
    }
   ],
   "source": [
    "for i in data[\"Status information\"][:10]:\n",
    "  print(i)"
   ]
  },
  {
   "cell_type": "code",
   "execution_count": 29,
   "metadata": {
    "id": "K38gnaEpBd7g"
   },
   "outputs": [],
   "source": [
    "import string\n",
    "pun_word = string.punctuation"
   ]
  },
  {
   "cell_type": "code",
   "execution_count": 30,
   "metadata": {
    "colab": {
     "base_uri": "https://localhost:8080/"
    },
    "id": "TSOHsXIQCtDv",
    "outputId": "67b4dc98-5675-42a6-9006-15d204230206"
   },
   "outputs": [
    {
     "name": "stderr",
     "output_type": "stream",
     "text": [
      "[nltk_data] Downloading package stopwords to C:\\Users\\Gaming\n",
      "[nltk_data]     PC\\AppData\\Roaming\\nltk_data...\n",
      "[nltk_data]   Package stopwords is already up-to-date!\n"
     ]
    }
   ],
   "source": [
    "nltk.download(\"stopwords\")\n",
    "from nltk.corpus import stopwords\n",
    "\n",
    "stop_words = stopwords.words(\"english\")"
   ]
  },
  {
   "cell_type": "code",
   "execution_count": 31,
   "metadata": {
    "id": "xnyCx1XIFw48"
   },
   "outputs": [],
   "source": [
    "# custom stopwords where you will have negative words as well\n",
    "stop_words2 = [i for i in stop_words if i not in [\"not\",\"no\", \"nor\",\"don't\", \"aren't\",\n",
    " \"couldn't\",\n",
    " \"didn't\",\n",
    " \"doesn't\",\n",
    " \"hadn't\",\n",
    " \"hasn't\",\n",
    " \"haven't\",\n",
    " \"isn't\",\n",
    " \"mightn't\",\n",
    " \"mustn't\",\n",
    " \"needn't\",\n",
    " \"shouldn't\",\n",
    " \"wasn't\",\n",
    " \"weren't\",\n",
    " \"won't\",\n",
    " \"wouldn't\" ]]"
   ]
  },
  {
   "cell_type": "code",
   "execution_count": 32,
   "metadata": {
    "id": "bjNiEj1FAqKE"
   },
   "outputs": [],
   "source": [
    "data[\"num_words\"] = data[\"Status information\"].apply(lambda x : len([i for i in nltk.word_tokenize(x) if i not in pun_word]))"
   ]
  },
  {
   "cell_type": "code",
   "execution_count": 33,
   "metadata": {
    "colab": {
     "base_uri": "https://localhost:8080/",
     "height": 386
    },
    "id": "oKAYvCx5EBKJ",
    "outputId": "0c63cac3-b28b-431a-facc-e84ac498eee6"
   },
   "outputs": [
    {
     "data": {
      "text/plain": [
       "<Figure size 1080x540 with 0 Axes>"
      ]
     },
     "metadata": {},
     "output_type": "display_data"
    },
    {
     "data": {
      "image/png": "[encoded data removed]",
      "text/plain": [
       "<Figure size 540.25x360 with 1 Axes>"
      ]
     },
     "metadata": {
      "needs_background": "light"
     },
     "output_type": "display_data"
    }
   ],
   "source": [
    "# how many words present in ppl go not converting\n",
    "plt.figure(figsize=(12,6), dpi=90)\n",
    "sns.displot(data=data, x=\"num_words\", hue=\"Status \", aspect=1.2)\n",
    "plt.show()"
   ]
  },
  {
   "cell_type": "code",
   "execution_count": 34,
   "metadata": {
    "colab": {
     "base_uri": "https://localhost:8080/"
    },
    "id": "bAlZFJggJ2y3",
    "outputId": "6f8873d3-e39d-49d6-cab6-f2dbf8ce3dbf"
   },
   "outputs": [
    {
     "name": "stdout",
     "output_type": "stream",
     "text": [
      "['24/4/17', 'prema', 'cal', '5:30', '18/7/17', 'prema', 'enrolled', 'another', 'course']\n",
      "['24/apr/mohan', 'not', 'reachble', '25/apr/mohan', 'rnr', '16/may/mohan', 'cal', 'not', 'cntcd', '7/7/17', 'gowtham', 'not', 'lokng', 'right']\n",
      "['25/4/17', 'surendra', 'share', 'details', 'join', 'tomorrow', '27/4/17', 'surendra', 'join', 'morning', '6:30am', 'early', 'surendra']\n",
      "['24/4/17', 'prema', 'shared', 'details', '25/4/17', 'prema', 'rnr', '9/5/17', 'prema', 'ct', 'shared', 'details', '12/5/17', 'gowtham', 'tim', 'nedded', '15/6/17', 'soma', 'call', 'disconnected']\n",
      "['24/apr/mohan', 'rnr', '25/apr/mohan', 'rnr', '16/may/mohan', 'need', 'mrng', 'demo', '7/7/17', 'gowtham', 'enroled', 'wid', 'another', 'inst', 'alomost', 'completed', 'traning']\n",
      "['25/4/17', 'surendra', 'please', 'send', 'details', 'tomorrow', 'afternoon', '12pm', 'discuss', '12/5/17', 'surendra', 'not', 'connected', '12/5/17', 'gowtham', 'not', 'intrsd']\n",
      "['24/4/17', 'prema', 'need', 'ct', 'venue', 'far', 'shared', 'details', 'ds', '25/4/17', 'prema', 'want', 'venue', 'near', 'banaswadi']\n",
      "['24/apr/mohan', 'intrstd', 'evng', 'batch', 'trail', 'perd', '26/apr/mohan', 'alrdy', 'reg', 'exlr']\n",
      "['1/5/17', 'surendra', 'please', 'share', 'details', '11/5/17', 'gowtham', 'already', 'done']\n"
     ]
    }
   ],
   "source": [
    "for i in data[\"Status information\"][-10:-1]:\n",
    "  print([x.lower() for x in nltk.word_tokenize(i) if x not in pun_word and x not in stop_words2])"
   ]
  },
  {
   "cell_type": "code",
   "execution_count": 35,
   "metadata": {
    "id": "RyRJPZ08NH8T"
   },
   "outputs": [],
   "source": [
    "# for understanding the spell corrector \n",
    "from textblob import TextBlob"
   ]
  },
  {
   "cell_type": "code",
   "execution_count": 36,
   "metadata": {
    "colab": {
     "base_uri": "https://localhost:8080/"
    },
    "id": "LeWKLorrNjOB",
    "outputId": "46e5b265-5e43-4c64-e514-1d23f8bff086"
   },
   "outputs": [
    {
     "name": "stdout",
     "output_type": "stream",
     "text": [
      "24/4/17 prima cal 5:30 18/7/17 prima enrolled another course\n",
      "24/air/moran not readable 25/air/moran and 16/may/moran cal not catch 7/7/17 gowtham not long right\n",
      "25/4/17 surendra share details join tomorrow 27/4/17 surendra join morning 6:am early surendra\n",
      "24/4/17 prima shared details 25/4/17 prima and 9/5/17 prima it shared details 12/5/17 gowtham tim needed 15/6/17 some call disconnected\n",
      "24/air/moran and 25/air/moran and 16/may/moran need man domo 7/7/17 gowtham enrolled wid another inst almost completed trading\n",
      "25/4/17 surendra please send details tomorrow afternoon pm discuss 12/5/17 surendra not connected 12/5/17 gowtham not intra\n",
      "24/4/17 prima need it venue far shared details is 25/4/17 prima want venue near banaswadi\n",
      "24/air/moran intrusted long batch trail per 26/air/moran army red ever\n",
      "1/5/17 surendra please share details 11/5/17 gowtham already done\n"
     ]
    }
   ],
   "source": [
    "for i in data[\"Status information\"][-10:-1]:\n",
    "  txt = \" \".join([x.lower() for x in nltk.word_tokenize(i) if x not in pun_word and x not in stop_words2])\n",
    "  spell_check = TextBlob(txt)\n",
    "  txt = spell_check.correct().string\n",
    "  print(txt)"
   ]
  },
  {
   "cell_type": "markdown",
   "metadata": {
    "id": "3SOc-CjKBMEi"
   },
   "source": [
    "TextBlob does a very pathetic job in correcting chat spellings"
   ]
  },
  {
   "cell_type": "code",
   "execution_count": 37,
   "metadata": {
    "colab": {
     "base_uri": "https://localhost:8080/"
    },
    "id": "eVqgQUQvBTNp",
    "outputId": "6c11d1b6-c4ea-4394-89a1-03934d1ed00e"
   },
   "outputs": [
    {
     "name": "stdout",
     "output_type": "stream",
     "text": [
      "Requirement already satisfied: pyspellchecker in c:\\users\\gaming pc\\anaconda3\\lib\\site-packages (0.6.3)\n"
     ]
    }
   ],
   "source": [
    "# with pyspellchecker\n",
    "!pip install pyspellchecker"
   ]
  },
  {
   "cell_type": "code",
   "execution_count": 38,
   "metadata": {
    "id": "lrFAI1kGBl7Y"
   },
   "outputs": [],
   "source": [
    "from spellchecker import SpellChecker\n",
    "sp = SpellChecker()"
   ]
  },
  {
   "cell_type": "code",
   "execution_count": 39,
   "metadata": {
    "id": "9y_cbAPnCgH6"
   },
   "outputs": [],
   "source": [
    "incorrect_words = sp.unknown([ 'rnr', 'rnr', 'need', 'mrng', 'demo', 'enroled', 'wid', 'another', 'inst', 'alomost', 'completed', 'traning'])"
   ]
  },
  {
   "cell_type": "code",
   "execution_count": 40,
   "metadata": {
    "colab": {
     "base_uri": "https://localhost:8080/"
    },
    "id": "E9HTHTkVC7b4",
    "outputId": "3f1fe881-cc6d-444e-e531-7bb9d1934801"
   },
   "outputs": [
    {
     "name": "stdout",
     "output_type": "stream",
     "text": [
      "rne\n",
      "{'rny', 'rar', 'unr', 'inr', 'ror', 'rer', 'rna', 'rne'}\n",
      "almost\n",
      "{'almost', 'allmost'}\n",
      "enrolled\n",
      "{'enrolled', 'enrobed'}\n",
      "ming\n",
      "{'mrna', 'ming', 'meng', 'mong', 'mung', 'mang'}\n"
     ]
    }
   ],
   "source": [
    "for i in incorrect_words:\n",
    "    print(sp.correction(i))\n",
    "    print(sp.candidates(i))"
   ]
  },
  {
   "cell_type": "markdown",
   "metadata": {
    "id": "qiwwscn4mQFY"
   },
   "source": [
    "# Text Preprocessing"
   ]
  },
  {
   "cell_type": "code",
   "execution_count": 41,
   "metadata": {
    "id": "U0Iv9gnQsZWx"
   },
   "outputs": [],
   "source": [
    "import re"
   ]
  },
  {
   "cell_type": "code",
   "execution_count": 42,
   "metadata": {
    "colab": {
     "base_uri": "https://localhost:8080/",
     "height": 206
    },
    "id": "jBC2r7G_mRqm",
    "outputId": "da0ff176-8be6-42ce-e8f3-e0631d16277e"
   },
   "outputs": [
    {
     "data": {
      "text/html": [
       "<div>\n",
       "<style scoped>\n",
       "    .dataframe tbody tr th:only-of-type {\n",
       "        vertical-align: middle;\n",
       "    }\n",
       "\n",
       "    .dataframe tbody tr th {\n",
       "        vertical-align: top;\n",
       "    }\n",
       "\n",
       "    .dataframe thead th {\n",
       "        text-align: right;\n",
       "    }\n",
       "</style>\n",
       "<table border=\"1\" class=\"dataframe\">\n",
       "  <thead>\n",
       "    <tr style=\"text-align: right;\">\n",
       "      <th></th>\n",
       "      <th>Lead Name</th>\n",
       "      <th>Location</th>\n",
       "      <th>Status</th>\n",
       "      <th>Status information</th>\n",
       "      <th>Country</th>\n",
       "      <th>num_char</th>\n",
       "      <th>num_words</th>\n",
       "    </tr>\n",
       "  </thead>\n",
       "  <tbody>\n",
       "    <tr>\n",
       "      <th>0</th>\n",
       "      <td>Raja</td>\n",
       "      <td>hyderabad</td>\n",
       "      <td>Not Converted</td>\n",
       "      <td>14/8/prema: share me details, available in evn...</td>\n",
       "      <td>india</td>\n",
       "      <td>133</td>\n",
       "      <td>18</td>\n",
       "    </tr>\n",
       "    <tr>\n",
       "      <th>1</th>\n",
       "      <td>Anirudh Reddy</td>\n",
       "      <td>pune</td>\n",
       "      <td>Not Converted</td>\n",
       "      <td>14/8/prema: cal me tmrw, shared details to ema...</td>\n",
       "      <td>india</td>\n",
       "      <td>171</td>\n",
       "      <td>27</td>\n",
       "    </tr>\n",
       "    <tr>\n",
       "      <th>2</th>\n",
       "      <td>Sapna Dewani</td>\n",
       "      <td>bangalore</td>\n",
       "      <td>Converted</td>\n",
       "      <td>16|AuG|moHan:rnr</td>\n",
       "      <td>india</td>\n",
       "      <td>16</td>\n",
       "      <td>2</td>\n",
       "    </tr>\n",
       "    <tr>\n",
       "      <th>3</th>\n",
       "      <td>suresh</td>\n",
       "      <td>mumbai</td>\n",
       "      <td>Not Converted</td>\n",
       "      <td>14/8/17(Surendra):i want only Server 16|AuG|mo...</td>\n",
       "      <td>india</td>\n",
       "      <td>86</td>\n",
       "      <td>13</td>\n",
       "    </tr>\n",
       "    <tr>\n",
       "      <th>4</th>\n",
       "      <td>Akshay Shinde</td>\n",
       "      <td>hyderabad</td>\n",
       "      <td>Not Converted</td>\n",
       "      <td>14/8/prema:rnr 16/8/prema: gave info, he said ...</td>\n",
       "      <td>india</td>\n",
       "      <td>118</td>\n",
       "      <td>19</td>\n",
       "    </tr>\n",
       "  </tbody>\n",
       "</table>\n",
       "</div>"
      ],
      "text/plain": [
       "       Lead Name   Location        Status   \\\n",
       "0           Raja  hyderabad  Not Converted   \n",
       "1  Anirudh Reddy       pune  Not Converted   \n",
       "2   Sapna Dewani  bangalore     Converted    \n",
       "3         suresh     mumbai  Not Converted   \n",
       "4  Akshay Shinde  hyderabad  Not Converted   \n",
       "\n",
       "                                  Status information Country  num_char  \\\n",
       "0  14/8/prema: share me details, available in evn...   india       133   \n",
       "1  14/8/prema: cal me tmrw, shared details to ema...   india       171   \n",
       "2                                   16|AuG|moHan:rnr   india        16   \n",
       "3  14/8/17(Surendra):i want only Server 16|AuG|mo...   india        86   \n",
       "4  14/8/prema:rnr 16/8/prema: gave info, he said ...   india       118   \n",
       "\n",
       "   num_words  \n",
       "0         18  \n",
       "1         27  \n",
       "2          2  \n",
       "3         13  \n",
       "4         19  "
      ]
     },
     "execution_count": 42,
     "metadata": {},
     "output_type": "execute_result"
    }
   ],
   "source": [
    "data.head()"
   ]
  },
  {
   "cell_type": "code",
   "execution_count": 43,
   "metadata": {
    "id": "H21bkVScoKoB"
   },
   "outputs": [],
   "source": [
    "df = data.copy()"
   ]
  },
  {
   "cell_type": "code",
   "execution_count": 44,
   "metadata": {
    "id": "sUDPQFkLm-rf"
   },
   "outputs": [],
   "source": [
    "# label encoding the locations\n",
    "from sklearn.preprocessing import LabelEncoder\n",
    "le = LabelEncoder()"
   ]
  },
  {
   "cell_type": "code",
   "execution_count": 45,
   "metadata": {
    "id": "nr4owVeznO3D"
   },
   "outputs": [],
   "source": [
    "df[\"Location\"] = le.fit_transform(df[\"Location\"])"
   ]
  },
  {
   "cell_type": "code",
   "execution_count": 46,
   "metadata": {
    "id": "MuuqZ-RyoRIZ"
   },
   "outputs": [],
   "source": [
    "df[\"Status \"].replace({\"Not Converted\": 1, \"Converted \": 0}, inplace=True)"
   ]
  },
  {
   "cell_type": "code",
   "execution_count": 47,
   "metadata": {
    "colab": {
     "base_uri": "https://localhost:8080/",
     "height": 206
    },
    "id": "h3YU8JXoombr",
    "outputId": "0f984aa9-1e38-45eb-8c54-0fb04f15d351"
   },
   "outputs": [
    {
     "data": {
      "text/html": [
       "<div>\n",
       "<style scoped>\n",
       "    .dataframe tbody tr th:only-of-type {\n",
       "        vertical-align: middle;\n",
       "    }\n",
       "\n",
       "    .dataframe tbody tr th {\n",
       "        vertical-align: top;\n",
       "    }\n",
       "\n",
       "    .dataframe thead th {\n",
       "        text-align: right;\n",
       "    }\n",
       "</style>\n",
       "<table border=\"1\" class=\"dataframe\">\n",
       "  <thead>\n",
       "    <tr style=\"text-align: right;\">\n",
       "      <th></th>\n",
       "      <th>Lead Name</th>\n",
       "      <th>Location</th>\n",
       "      <th>Status</th>\n",
       "      <th>Status information</th>\n",
       "      <th>Country</th>\n",
       "      <th>num_char</th>\n",
       "      <th>num_words</th>\n",
       "    </tr>\n",
       "  </thead>\n",
       "  <tbody>\n",
       "    <tr>\n",
       "      <th>0</th>\n",
       "      <td>Raja</td>\n",
       "      <td>16</td>\n",
       "      <td>1</td>\n",
       "      <td>14/8/prema: share me details, available in evn...</td>\n",
       "      <td>india</td>\n",
       "      <td>133</td>\n",
       "      <td>18</td>\n",
       "    </tr>\n",
       "    <tr>\n",
       "      <th>1</th>\n",
       "      <td>Anirudh Reddy</td>\n",
       "      <td>35</td>\n",
       "      <td>1</td>\n",
       "      <td>14/8/prema: cal me tmrw, shared details to ema...</td>\n",
       "      <td>india</td>\n",
       "      <td>171</td>\n",
       "      <td>27</td>\n",
       "    </tr>\n",
       "    <tr>\n",
       "      <th>2</th>\n",
       "      <td>Sapna Dewani</td>\n",
       "      <td>3</td>\n",
       "      <td>0</td>\n",
       "      <td>16|AuG|moHan:rnr</td>\n",
       "      <td>india</td>\n",
       "      <td>16</td>\n",
       "      <td>2</td>\n",
       "    </tr>\n",
       "    <tr>\n",
       "      <th>3</th>\n",
       "      <td>suresh</td>\n",
       "      <td>27</td>\n",
       "      <td>1</td>\n",
       "      <td>14/8/17(Surendra):i want only Server 16|AuG|mo...</td>\n",
       "      <td>india</td>\n",
       "      <td>86</td>\n",
       "      <td>13</td>\n",
       "    </tr>\n",
       "    <tr>\n",
       "      <th>4</th>\n",
       "      <td>Akshay Shinde</td>\n",
       "      <td>16</td>\n",
       "      <td>1</td>\n",
       "      <td>14/8/prema:rnr 16/8/prema: gave info, he said ...</td>\n",
       "      <td>india</td>\n",
       "      <td>118</td>\n",
       "      <td>19</td>\n",
       "    </tr>\n",
       "  </tbody>\n",
       "</table>\n",
       "</div>"
      ],
      "text/plain": [
       "       Lead Name  Location  Status   \\\n",
       "0           Raja        16        1   \n",
       "1  Anirudh Reddy        35        1   \n",
       "2   Sapna Dewani         3        0   \n",
       "3         suresh        27        1   \n",
       "4  Akshay Shinde        16        1   \n",
       "\n",
       "                                  Status information Country  num_char  \\\n",
       "0  14/8/prema: share me details, available in evn...   india       133   \n",
       "1  14/8/prema: cal me tmrw, shared details to ema...   india       171   \n",
       "2                                   16|AuG|moHan:rnr   india        16   \n",
       "3  14/8/17(Surendra):i want only Server 16|AuG|mo...   india        86   \n",
       "4  14/8/prema:rnr 16/8/prema: gave info, he said ...   india       118   \n",
       "\n",
       "   num_words  \n",
       "0         18  \n",
       "1         27  \n",
       "2          2  \n",
       "3         13  \n",
       "4         19  "
      ]
     },
     "execution_count": 47,
     "metadata": {},
     "output_type": "execute_result"
    }
   ],
   "source": [
    "# 1 = not coverted and 0 = converted\n",
    "df.head()"
   ]
  },
  {
   "cell_type": "code",
   "execution_count": 48,
   "metadata": {
    "colab": {
     "base_uri": "https://localhost:8080/"
    },
    "id": "0_wBLxi3hTEt",
    "outputId": "90992e71-8726-47be-cb30-e1f81a7a8f06"
   },
   "outputs": [
    {
     "name": "stderr",
     "output_type": "stream",
     "text": [
      "[nltk_data] Downloading package wordnet to C:\\Users\\Gaming\n",
      "[nltk_data]     PC\\AppData\\Roaming\\nltk_data...\n",
      "[nltk_data]   Package wordnet is already up-to-date!\n"
     ]
    },
    {
     "data": {
      "text/plain": [
       "True"
      ]
     },
     "execution_count": 48,
     "metadata": {},
     "output_type": "execute_result"
    }
   ],
   "source": [
    "nltk.download(\"wordnet\")"
   ]
  },
  {
   "cell_type": "code",
   "execution_count": 49,
   "metadata": {
    "colab": {
     "base_uri": "https://localhost:8080/"
    },
    "id": "pgNDUj9ghbNz",
    "outputId": "b4bce2c7-6797-473b-827c-a671dd8b489f"
   },
   "outputs": [
    {
     "name": "stderr",
     "output_type": "stream",
     "text": [
      "[nltk_data] Downloading package omw-1.4 to C:\\Users\\Gaming\n",
      "[nltk_data]     PC\\AppData\\Roaming\\nltk_data...\n",
      "[nltk_data]   Package omw-1.4 is already up-to-date!\n"
     ]
    },
    {
     "data": {
      "text/plain": [
       "True"
      ]
     },
     "execution_count": 49,
     "metadata": {},
     "output_type": "execute_result"
    }
   ],
   "source": [
    "nltk.download(\"omw-1.4\")"
   ]
  },
  {
   "cell_type": "code",
   "execution_count": 50,
   "metadata": {
    "id": "oH_gOAZIgoRC"
   },
   "outputs": [],
   "source": [
    "from nltk.stem import WordNetLemmatizer\n",
    "lamma = WordNetLemmatizer()\n",
    "def preprocess(txt):\n",
    "    x = txt.lower()\n",
    "    x = re.sub(\"\\d+[/?]\\w+[/?]\\w+:|\\d+[|]\\w+[|]\\w+:|\\d+[/]\\w+[/]\\w+[(]\\w+[)]:?\", \"\", x)\n",
    "    x = re.sub(\"int[a-z]+d$\", \"interested\", x)\n",
    "    x = re.sub(\"[\\d+-?,'.]\", \"\", x)\n",
    "    x = [i for i in nltk.word_tokenize(x) if i not in stop_words2 and len(i)>1 and i not in pun_word] \n",
    "    x = [lamma.lemmatize(i) for i in x] \n",
    "    return \" \".join(x)"
   ]
  },
  {
   "cell_type": "code",
   "execution_count": 51,
   "metadata": {
    "colab": {
     "base_uri": "https://localhost:8080/"
    },
    "id": "Z-vQtgIhvnvq",
    "outputId": "2e624142-4212-40e4-bfd7-968b8fd39018"
   },
   "outputs": [
    {
     "name": "stdout",
     "output_type": "stream",
     "text": [
      "14/8/prema: share me details, available in evng 18/8/prema: postponed the plans for training currently 9/11/prema: not interested now\n",
      "14/8/prema: cal me tmrw, shared details to email 16/8/prema: share details to email, will check n revert 18/8/prema: received your email, i'm looking for ASQ certification\n",
      "16|AuG|moHan:rnr\n",
      "14/8/17(Surendra):i want only Server 16|AuG|moHan:cal busy 17|AuG|moHan:reg for server\n",
      "14/8/prema:rnr 16/8/prema: gave info, he said he will revert in 1hr 30/8/prema: planning for next month, share details\n",
      "12/8/17(Surendra):i will check demo(attended demo) 14/8/17(Surendra):i will get back 17/8/17(Surendra):i will think and respond 23/11/17(Surendra):not interested\n",
      "14/8/17(Surendra):asking code\n",
      "11|aUg|moHan:mail shred for ML Tensorflow corprt 16|AuG|moHan:shared but rnr\n",
      "11|AuG|moHan:askng code\n",
      "11/8/prema: RNR 11/8/prema: share me tableau recorded session check n revert 12/8/prema: not reachable 14/8/prema: RNR 16/8/prema: have rotational shifts, will check details n confirm 17/8/prema: rnr 17/8/surendra: i will confirm by tmrw 18/8/prema: rnr 22/8/prema: share me details of webinar on 23rd\n",
      "11/8/prema: call me @ 5pm 11/8/prema: om in a meeting, cal me later 12/8/prema: rnr 17/8/prema: webinar on weekends 31/8/prema: shared details of DS 1/9/prema: rnr\n",
      "11/8/prema: i'm under medication, will b back after a wk, CT is comfortable 20/8/prema: share me bangalore ofc address 26/8/prema: at home they insist to join in Classroom only 30/8/prema: rnr (soma): want classroom training only\n"
     ]
    }
   ],
   "source": [
    "for i in data[\"Status information\"][:12]:\n",
    "  print(i)"
   ]
  },
  {
   "cell_type": "code",
   "execution_count": 52,
   "metadata": {
    "colab": {
     "base_uri": "https://localhost:8080/"
    },
    "id": "Rh1PojICp6jN",
    "outputId": "4b1ac992-70b0-4065-cd87-61ed8af946aa"
   },
   "outputs": [
    {
     "name": "stdout",
     "output_type": "stream",
     "text": [
      "share detail available evng postponed plan training currently not interested\n",
      "cal tmrw shared detail email share detail email check revert received email im looking asq certification\n",
      "rnr\n",
      "want server cal busy reg server\n",
      "rnr gave info said revert hr planning next month share detail\n",
      "check demo attended demo get back think respond not interested\n",
      "asking code\n",
      "mail shred ml tensorflow corprt shared rnr\n",
      "askng code\n",
      "rnr share tableau recorded session check revert not reachable rnr rotational shift check detail confirm rnr confirm tmrw rnr share detail webinar rd\n",
      "call pm om meeting cal later rnr webinar weekend shared detail d rnr\n",
      "im medication back wk ct comfortable share bangalore ofc address home insist join classroom rnr soma want classroom training\n"
     ]
    }
   ],
   "source": [
    "for i in data[\"Status information\"][:12]:\n",
    "      print(preprocess(i))"
   ]
  },
  {
   "cell_type": "code",
   "execution_count": 55,
   "metadata": {
    "id": "xBD7iLu_EKRy"
   },
   "outputs": [],
   "source": [
    "df[\"cleaned_txt\"] = df[\"Status information\"].apply(preprocess)"
   ]
  },
  {
   "cell_type": "markdown",
   "metadata": {
    "id": "MBDJDWzZEt9f"
   },
   "source": [
    "now that we have cleaned the txt, lets correct few specific spellings"
   ]
  },
  {
   "cell_type": "code",
   "execution_count": 56,
   "metadata": {
    "colab": {
     "base_uri": "https://localhost:8080/",
     "height": 206
    },
    "id": "lOf_LjhMKVH_",
    "outputId": "2e12aa6b-71c3-415a-b74b-5a1da29de065",
    "scrolled": true
   },
   "outputs": [
    {
     "data": {
      "text/html": [
       "<div>\n",
       "<style scoped>\n",
       "    .dataframe tbody tr th:only-of-type {\n",
       "        vertical-align: middle;\n",
       "    }\n",
       "\n",
       "    .dataframe tbody tr th {\n",
       "        vertical-align: top;\n",
       "    }\n",
       "\n",
       "    .dataframe thead th {\n",
       "        text-align: right;\n",
       "    }\n",
       "</style>\n",
       "<table border=\"1\" class=\"dataframe\">\n",
       "  <thead>\n",
       "    <tr style=\"text-align: right;\">\n",
       "      <th></th>\n",
       "      <th>Lead Name</th>\n",
       "      <th>Location</th>\n",
       "      <th>Status</th>\n",
       "      <th>Status information</th>\n",
       "      <th>Country</th>\n",
       "      <th>num_char</th>\n",
       "      <th>num_words</th>\n",
       "      <th>cleaned_txt</th>\n",
       "    </tr>\n",
       "  </thead>\n",
       "  <tbody>\n",
       "    <tr>\n",
       "      <th>0</th>\n",
       "      <td>Raja</td>\n",
       "      <td>16</td>\n",
       "      <td>1</td>\n",
       "      <td>14/8/prema: share me details, available in evn...</td>\n",
       "      <td>india</td>\n",
       "      <td>133</td>\n",
       "      <td>18</td>\n",
       "      <td>share detail available evng postponed plan tra...</td>\n",
       "    </tr>\n",
       "    <tr>\n",
       "      <th>1</th>\n",
       "      <td>Anirudh Reddy</td>\n",
       "      <td>35</td>\n",
       "      <td>1</td>\n",
       "      <td>14/8/prema: cal me tmrw, shared details to ema...</td>\n",
       "      <td>india</td>\n",
       "      <td>171</td>\n",
       "      <td>27</td>\n",
       "      <td>cal tmrw shared detail email share detail emai...</td>\n",
       "    </tr>\n",
       "    <tr>\n",
       "      <th>2</th>\n",
       "      <td>Sapna Dewani</td>\n",
       "      <td>3</td>\n",
       "      <td>0</td>\n",
       "      <td>16|AuG|moHan:rnr</td>\n",
       "      <td>india</td>\n",
       "      <td>16</td>\n",
       "      <td>2</td>\n",
       "      <td>rnr</td>\n",
       "    </tr>\n",
       "    <tr>\n",
       "      <th>3</th>\n",
       "      <td>suresh</td>\n",
       "      <td>27</td>\n",
       "      <td>1</td>\n",
       "      <td>14/8/17(Surendra):i want only Server 16|AuG|mo...</td>\n",
       "      <td>india</td>\n",
       "      <td>86</td>\n",
       "      <td>13</td>\n",
       "      <td>want server cal busy reg server</td>\n",
       "    </tr>\n",
       "    <tr>\n",
       "      <th>4</th>\n",
       "      <td>Akshay Shinde</td>\n",
       "      <td>16</td>\n",
       "      <td>1</td>\n",
       "      <td>14/8/prema:rnr 16/8/prema: gave info, he said ...</td>\n",
       "      <td>india</td>\n",
       "      <td>118</td>\n",
       "      <td>19</td>\n",
       "      <td>rnr gave info said revert hr planning next mon...</td>\n",
       "    </tr>\n",
       "  </tbody>\n",
       "</table>\n",
       "</div>"
      ],
      "text/plain": [
       "       Lead Name  Location  Status   \\\n",
       "0           Raja        16        1   \n",
       "1  Anirudh Reddy        35        1   \n",
       "2   Sapna Dewani         3        0   \n",
       "3         suresh        27        1   \n",
       "4  Akshay Shinde        16        1   \n",
       "\n",
       "                                  Status information Country  num_char  \\\n",
       "0  14/8/prema: share me details, available in evn...   india       133   \n",
       "1  14/8/prema: cal me tmrw, shared details to ema...   india       171   \n",
       "2                                   16|AuG|moHan:rnr   india        16   \n",
       "3  14/8/17(Surendra):i want only Server 16|AuG|mo...   india        86   \n",
       "4  14/8/prema:rnr 16/8/prema: gave info, he said ...   india       118   \n",
       "\n",
       "   num_words                                        cleaned_txt  \n",
       "0         18  share detail available evng postponed plan tra...  \n",
       "1         27  cal tmrw shared detail email share detail emai...  \n",
       "2          2                                                rnr  \n",
       "3         13                    want server cal busy reg server  \n",
       "4         19  rnr gave info said revert hr planning next mon...  "
      ]
     },
     "execution_count": 56,
     "metadata": {},
     "output_type": "execute_result"
    }
   ],
   "source": [
    "df.head()"
   ]
  },
  {
   "cell_type": "code",
   "execution_count": 57,
   "metadata": {
    "colab": {
     "base_uri": "https://localhost:8080/"
    },
    "id": "6TIqMC-oLaS0",
    "outputId": "3c318716-2d2d-403f-8689-70a300fbf6db"
   },
   "outputs": [
    {
     "name": "stdout",
     "output_type": "stream",
     "text": [
      "cacl latr rnr soma asked call tomorrow\n",
      "call pm iam college iam class\n",
      "detail shared rnr didnt go mail go revert detail shared soma not interested\n",
      "detaills shared said next month\n",
      "shared detail not reachable not right time talk cal evng tied agency\n",
      "rnr rnr cald many time rnr not interested\n",
      "rnr rnr call min check evening pm not interested\n",
      "u number\n",
      "rnr rnr\n",
      "need reg clsroom try satdy demo rnr rnr rnr rnr\n"
     ]
    }
   ],
   "source": [
    "for i in df[\"cleaned_txt\"][30:40]:\n",
    "  print(i)"
   ]
  },
  {
   "cell_type": "markdown",
   "metadata": {
    "id": "2vbSuNGk2Bew"
   },
   "source": [
    "# Dealing with imbalance data"
   ]
  },
  {
   "cell_type": "code",
   "execution_count": 58,
   "metadata": {},
   "outputs": [
    {
     "data": {
      "text/plain": [
       "1    845\n",
       "0    129\n",
       "Name: Status , dtype: int64"
      ]
     },
     "execution_count": 58,
     "metadata": {},
     "output_type": "execute_result"
    }
   ],
   "source": [
    "df[\"Status \"].value_counts()"
   ]
  },
  {
   "cell_type": "code",
   "execution_count": 59,
   "metadata": {
    "id": "mi32kWqS2D75"
   },
   "outputs": [],
   "source": [
    "\n",
    "from sklearn.utils import resample\n",
    "df_major = df[df[\"Status \"]==1]\n",
    "df_minor = df[df[\"Status \"]==0]\n",
    "df_minor_upsampled = resample(df_minor, replace=True,n_samples=600,random_state=20) \n",
    "df_upsampled = pd.concat([df_major, df_minor_upsampled], axis=0)"
   ]
  },
  {
   "cell_type": "code",
   "execution_count": 60,
   "metadata": {
    "colab": {
     "base_uri": "https://localhost:8080/"
    },
    "id": "jrA8nkO02m9_",
    "outputId": "8d41819e-7fa7-4e62-ed08-c2b5c09dbabe"
   },
   "outputs": [
    {
     "data": {
      "text/plain": [
       "1    845\n",
       "0    600\n",
       "Name: Status , dtype: int64"
      ]
     },
     "execution_count": 60,
     "metadata": {},
     "output_type": "execute_result"
    }
   ],
   "source": [
    "df_upsampled[\"Status \"].value_counts()"
   ]
  },
  {
   "cell_type": "markdown",
   "metadata": {
    "id": "UkvYO15OyeQ_"
   },
   "source": [
    "# Word Cloud"
   ]
  },
  {
   "cell_type": "code",
   "execution_count": 61,
   "metadata": {
    "id": "HfyY2v-UygMN"
   },
   "outputs": [],
   "source": [
    "\n",
    "def word_freq(x):\n",
    "    lst = []\n",
    "    for word in x.split():\n",
    "        lst.extend(word)\n",
    "    words = pd.Series(lst)\n",
    "    return words"
   ]
  },
  {
   "cell_type": "code",
   "execution_count": 62,
   "metadata": {
    "id": "hptYrkPDyzc-"
   },
   "outputs": [],
   "source": [
    "words_freq = word_freq(df[df[\"Status \"]==1][\"cleaned_txt\"].str)"
   ]
  },
  {
   "cell_type": "code",
   "execution_count": 63,
   "metadata": {
    "id": "pIqQKqkfy-UM"
   },
   "outputs": [],
   "source": [
    "top_words = words_freq.value_counts().reset_index()[:30]"
   ]
  },
  {
   "cell_type": "code",
   "execution_count": 64,
   "metadata": {
    "colab": {
     "base_uri": "https://localhost:8080/",
     "height": 206
    },
    "id": "3rBAi3sIzBHN",
    "outputId": "0bced645-dbb5-4690-e68d-82a0d153c5ea"
   },
   "outputs": [
    {
     "data": {
      "text/html": [
       "<div>\n",
       "<style scoped>\n",
       "    .dataframe tbody tr th:only-of-type {\n",
       "        vertical-align: middle;\n",
       "    }\n",
       "\n",
       "    .dataframe tbody tr th {\n",
       "        vertical-align: top;\n",
       "    }\n",
       "\n",
       "    .dataframe thead th {\n",
       "        text-align: right;\n",
       "    }\n",
       "</style>\n",
       "<table border=\"1\" class=\"dataframe\">\n",
       "  <thead>\n",
       "    <tr style=\"text-align: right;\">\n",
       "      <th></th>\n",
       "      <th>index</th>\n",
       "      <th>0</th>\n",
       "    </tr>\n",
       "  </thead>\n",
       "  <tbody>\n",
       "    <tr>\n",
       "      <th>0</th>\n",
       "      <td>rnr</td>\n",
       "      <td>1084</td>\n",
       "    </tr>\n",
       "    <tr>\n",
       "      <th>1</th>\n",
       "      <td>detail</td>\n",
       "      <td>439</td>\n",
       "    </tr>\n",
       "    <tr>\n",
       "      <th>2</th>\n",
       "      <td>not</td>\n",
       "      <td>377</td>\n",
       "    </tr>\n",
       "    <tr>\n",
       "      <th>3</th>\n",
       "      <td>call</td>\n",
       "      <td>364</td>\n",
       "    </tr>\n",
       "    <tr>\n",
       "      <th>4</th>\n",
       "      <td>shared</td>\n",
       "      <td>310</td>\n",
       "    </tr>\n",
       "  </tbody>\n",
       "</table>\n",
       "</div>"
      ],
      "text/plain": [
       "    index     0\n",
       "0     rnr  1084\n",
       "1  detail   439\n",
       "2     not   377\n",
       "3    call   364\n",
       "4  shared   310"
      ]
     },
     "execution_count": 64,
     "metadata": {},
     "output_type": "execute_result"
    }
   ],
   "source": [
    "top_words.head()"
   ]
  },
  {
   "cell_type": "code",
   "execution_count": 65,
   "metadata": {
    "colab": {
     "base_uri": "https://localhost:8080/",
     "height": 532
    },
    "id": "TqMCHa74zGkF",
    "outputId": "8b86429c-fb3c-4a32-afbf-ccc726afa429"
   },
   "outputs": [
    {
     "data": {
      "image/png": "[encoded data removed]",
      "text/plain": [
       "<Figure size 1080x540 with 1 Axes>"
      ]
     },
     "metadata": {
      "needs_background": "light"
     },
     "output_type": "display_data"
    }
   ],
   "source": [
    "plt.figure(figsize=(12,6), dpi=90)\n",
    "sns.barplot(data=top_words, x=\"index\", y=0)\n",
    "plt.xticks(rotation=\"vertical\")\n",
    "plt.show()"
   ]
  },
  {
   "cell_type": "code",
   "execution_count": 66,
   "metadata": {
    "id": "56qmY94TzQ47"
   },
   "outputs": [],
   "source": [
    "from wordcloud import WordCloud "
   ]
  },
  {
   "cell_type": "code",
   "execution_count": 67,
   "metadata": {
    "id": "RbfB1kPCzT8f"
   },
   "outputs": [],
   "source": [
    "wc = WordCloud(width= 1200, height=800, max_words=30) \n",
    "not_converted_wc = wc.generate(df[df[\"Status \"]==1][\"cleaned_txt\"].str.cat(sep=\" \"))"
   ]
  },
  {
   "cell_type": "code",
   "execution_count": 68,
   "metadata": {
    "colab": {
     "base_uri": "https://localhost:8080/",
     "height": 469
    },
    "id": "RcbID6bDzk7k",
    "outputId": "34230a70-9d03-4719-b7d1-e54039c672d8"
   },
   "outputs": [
    {
     "data": {
      "image/png": "[encoded data removed]",
      "text/plain": [
       "<Figure size 1620x540 with 1 Axes>"
      ]
     },
     "metadata": {
      "needs_background": "light"
     },
     "output_type": "display_data"
    }
   ],
   "source": [
    "plt.figure(figsize=(18,6), dpi=90)\n",
    "plt.imshow(not_converted_wc)\n",
    "plt.show()"
   ]
  },
  {
   "cell_type": "code",
   "execution_count": 69,
   "metadata": {
    "id": "Psw26h40z2dN"
   },
   "outputs": [],
   "source": [
    "converted_wc = wc.generate(df[df[\"Status \"]==0][\"cleaned_txt\"].str.cat(sep=\" \"))"
   ]
  },
  {
   "cell_type": "code",
   "execution_count": 70,
   "metadata": {
    "colab": {
     "base_uri": "https://localhost:8080/",
     "height": 469
    },
    "id": "hpSJxNJqz_gk",
    "outputId": "b200e404-fb25-4c39-b2c7-256c1887dcbe"
   },
   "outputs": [
    {
     "data": {
      "image/png": "[encoded data removed]",
      "text/plain": [
       "<Figure size 1620x540 with 1 Axes>"
      ]
     },
     "metadata": {
      "needs_background": "light"
     },
     "output_type": "display_data"
    }
   ],
   "source": [
    "plt.figure(figsize=(18,6), dpi=90)\n",
    "plt.imshow(converted_wc)\n",
    "plt.show()"
   ]
  },
  {
   "cell_type": "markdown",
   "metadata": {
    "id": "7oqWhuU90n23"
   },
   "source": [
    "# Task 1 Topic Modeling"
   ]
  },
  {
   "cell_type": "code",
   "execution_count": 71,
   "metadata": {
    "id": "JUQfFJLd0pjL"
   },
   "outputs": [],
   "source": [
    "from sklearn.feature_extraction.text import CountVectorizer,TfidfVectorizer \n",
    "cv = CountVectorizer(max_features=500, ngram_range=(2,2)) "
   ]
  },
  {
   "cell_type": "code",
   "execution_count": 72,
   "metadata": {
    "id": "59mW4hg3vIrK"
   },
   "outputs": [],
   "source": [
    "vector_txt = cv.fit_transform(df_upsampled[\"cleaned_txt\"])"
   ]
  },
  {
   "cell_type": "code",
   "execution_count": 73,
   "metadata": {
    "id": "1DdtBqDC2E97"
   },
   "outputs": [],
   "source": [
    "from sklearn.decomposition import LatentDirichletAllocation"
   ]
  },
  {
   "cell_type": "code",
   "execution_count": 74,
   "metadata": {
    "id": "dI4YIIpG2RXV"
   },
   "outputs": [],
   "source": [
    "lda_model = LatentDirichletAllocation(n_components=2,learning_method='online',random_state=42,max_iter=5)"
   ]
  },
  {
   "cell_type": "code",
   "execution_count": 75,
   "metadata": {
    "id": "K1MJ95hy2f7q"
   },
   "outputs": [],
   "source": [
    "lda_top = lda_model.fit_transform(vector_txt)"
   ]
  },
  {
   "cell_type": "code",
   "execution_count": 76,
   "metadata": {
    "colab": {
     "base_uri": "https://localhost:8080/"
    },
    "id": "1-P2ugMs27bd",
    "outputId": "d717b556-b5b0-4ffb-bfab-3d20be203524"
   },
   "outputs": [
    {
     "name": "stdout",
     "output_type": "stream",
     "text": [
      "Document 0: \n",
      "Topic  0 :  59.69289986299938 %\n",
      "Topic  1 :  40.30710013700063 %\n"
     ]
    }
   ],
   "source": [
    "print(\"Document 0: \")\n",
    "for i,topic in enumerate(lda_top[0]):\n",
    "  print(\"Topic \",i,\": \",topic*100,\"%\")"
   ]
  },
  {
   "cell_type": "code",
   "execution_count": 77,
   "metadata": {
    "colab": {
     "base_uri": "https://localhost:8080/"
    },
    "id": "arL2vfAt3KyS",
    "outputId": "2ac47698-405d-48c4-8bb4-8a46ed84f723"
   },
   "outputs": [
    {
     "name": "stderr",
     "output_type": "stream",
     "text": [
      "C:\\Users\\Gaming PC\\anaconda3\\lib\\site-packages\\sklearn\\utils\\deprecation.py:87: FutureWarning: Function get_feature_names is deprecated; get_feature_names is deprecated in 1.0 and will be removed in 1.2. Please use get_feature_names_out instead.\n",
      "  warnings.warn(msg, category=FutureWarning)\n"
     ]
    }
   ],
   "source": [
    "topics = dict()\n",
    "vocab = cv.get_feature_names()\n",
    "for i, comp in enumerate(lda_model.components_):\n",
    "     vocab_comp = zip(vocab, comp)\n",
    "     sorted_words = sorted(vocab_comp, key= lambda x:x[1], reverse=True)[:9]\n",
    "     tp = \"Topic \"+str(i)+\": \"\n",
    "     topics[tp] = []\n",
    "     for t in sorted_words:\n",
    "       topics[tp].append(t[0])"
   ]
  },
  {
   "cell_type": "code",
   "execution_count": 78,
   "metadata": {
    "colab": {
     "base_uri": "https://localhost:8080/"
    },
    "id": "T0SEVHCQ7YjP",
    "outputId": "626f621a-c3e9-4a42-8358-18bc14e52388"
   },
   "outputs": [
    {
     "name": "stdout",
     "output_type": "stream",
     "text": [
      "Topic 0:  : ['rnr rnr', 'shared detail', 'not interested', 'rnr call', 'detail rnr', 'share detail', 'get back', 'rnr shared', 'not connected']\n",
      "Topic 1:  : ['shared detail', 'share detail', 'detail shared', 'let know', 'coverage area', 'cal back', 'iam not', 'demo detail', 'detail check']\n"
     ]
    }
   ],
   "source": [
    "# now we understand what topics will have what words that are being considered\n",
    "for k,v in topics.items():\n",
    "  print(f\"{k} : {v}\")"
   ]
  },
  {
   "cell_type": "code",
   "execution_count": 79,
   "metadata": {
    "colab": {
     "base_uri": "https://localhost:8080/"
    },
    "id": "LapdEfFg8KJM",
    "outputId": "250993d7-9dd6-4cab-b3e9-55c6568fef55"
   },
   "outputs": [
    {
     "data": {
      "text/plain": [
       "1"
      ]
     },
     "execution_count": 79,
     "metadata": {},
     "output_type": "execute_result"
    }
   ],
   "source": [
    "df[\"Status \"][0]"
   ]
  },
  {
   "cell_type": "code",
   "execution_count": 80,
   "metadata": {
    "colab": {
     "base_uri": "https://localhost:8080/"
    },
    "id": "8jlFLha38o_e",
    "outputId": "54b62e8a-f6a1-492e-bbf7-e4d99dd70bed"
   },
   "outputs": [
    {
     "name": "stdout",
     "output_type": "stream",
     "text": [
      "Document 1: \n",
      "Topic  0 :  30.116018275551248 %\n",
      "Topic  1 :  69.88398172444874 %\n"
     ]
    }
   ],
   "source": [
    "# lets check for document 1\n",
    "print(\"Document 1: \")\n",
    "for i,topic in enumerate(lda_top[1]):\n",
    "  print(\"Topic \",i,\": \",topic*100,\"%\")"
   ]
  },
  {
   "cell_type": "code",
   "execution_count": 81,
   "metadata": {
    "colab": {
     "base_uri": "https://localhost:8080/"
    },
    "id": "MDerJZDB8xUP",
    "outputId": "c078fe42-6de5-4a25-853a-77f7ae1e52de"
   },
   "outputs": [
    {
     "name": "stdout",
     "output_type": "stream",
     "text": [
      "14/8/prema: cal me tmrw, shared details to email 16/8/prema: share details to email, will check n revert 18/8/prema: received your email, i'm looking for ASQ certification\n",
      "1\n"
     ]
    }
   ],
   "source": [
    "print(df[\"Status information\"][1])\n",
    "print(df[\"Status \"][1])"
   ]
  },
  {
   "cell_type": "code",
   "execution_count": 82,
   "metadata": {
    "colab": {
     "base_uri": "https://localhost:8080/"
    },
    "id": "ziCE2aELF7TW",
    "outputId": "57570aeb-7207-47ba-8574-152678d9332b"
   },
   "outputs": [
    {
     "name": "stdout",
     "output_type": "stream",
     "text": [
      "Document 2: \n",
      "Topic  0 :  50.0 %\n",
      "Topic  1 :  50.0 %\n"
     ]
    }
   ],
   "source": [
    "# lets check for document 2\n",
    "print(\"Document 2: \")\n",
    "for i,topic in enumerate(lda_top[2]):\n",
    "  print(\"Topic \",i,\": \",topic*100,\"%\")"
   ]
  },
  {
   "cell_type": "code",
   "execution_count": 83,
   "metadata": {
    "colab": {
     "base_uri": "https://localhost:8080/"
    },
    "id": "Za_qZ_alGAf8",
    "outputId": "170c822b-c6cf-45fe-d057-953b22bc0fe1"
   },
   "outputs": [
    {
     "name": "stdout",
     "output_type": "stream",
     "text": [
      "16|AuG|moHan:rnr\n",
      "0\n"
     ]
    }
   ],
   "source": [
    "print(df[\"Status information\"][2])\n",
    "print(df[\"Status \"][2])"
   ]
  },
  {
   "cell_type": "code",
   "execution_count": 84,
   "metadata": {
    "colab": {
     "base_uri": "https://localhost:8080/"
    },
    "id": "PIO2QNYaGO7W",
    "outputId": "dd321311-1d41-4ae3-a597-632f69b219a7"
   },
   "outputs": [
    {
     "name": "stdout",
     "output_type": "stream",
     "text": [
      "Document 3: \n",
      "Topic  0 :  22.293988079087438 %\n",
      "Topic  1 :  77.70601192091256 %\n"
     ]
    }
   ],
   "source": [
    "# lets check for document 3\n",
    "print(\"Document 3: \")\n",
    "for i,topic in enumerate(lda_top[3]):\n",
    "  print(\"Topic \",i,\": \",topic*100,\"%\")"
   ]
  },
  {
   "cell_type": "code",
   "execution_count": 85,
   "metadata": {
    "colab": {
     "base_uri": "https://localhost:8080/"
    },
    "id": "8lG5daDlGVkl",
    "outputId": "50f8a0df-c154-4c89-9e20-2b6650f597e2"
   },
   "outputs": [
    {
     "name": "stdout",
     "output_type": "stream",
     "text": [
      "14/8/17(Surendra):i want only Server 16|AuG|moHan:cal busy 17|AuG|moHan:reg for server\n",
      "1\n"
     ]
    }
   ],
   "source": [
    "print(df[\"Status information\"][3])\n",
    "print(df[\"Status \"][3])"
   ]
  },
  {
   "cell_type": "code",
   "execution_count": 86,
   "metadata": {
    "colab": {
     "base_uri": "https://localhost:8080/"
    },
    "id": "0ztmcZWWIgKK",
    "outputId": "2a986f5e-e559-4827-b2e8-65685eed5f3b"
   },
   "outputs": [
    {
     "name": "stdout",
     "output_type": "stream",
     "text": [
      "Document 4: \n",
      "Topic  0 :  62.23427300046615 %\n",
      "Topic  1 :  37.76572699953384 %\n"
     ]
    }
   ],
   "source": [
    "# lets check for document 4\n",
    "print(\"Document 4: \")\n",
    "for i,topic in enumerate(lda_top[4]):\n",
    "  print(\"Topic \",i,\": \",topic*100,\"%\")"
   ]
  },
  {
   "cell_type": "code",
   "execution_count": 87,
   "metadata": {
    "colab": {
     "base_uri": "https://localhost:8080/"
    },
    "id": "IqT3nnePIkcb",
    "outputId": "cb6dabca-5a12-4f59-cd36-7a1434e3e4d2",
    "scrolled": true
   },
   "outputs": [
    {
     "name": "stdout",
     "output_type": "stream",
     "text": [
      "14/8/prema:rnr 16/8/prema: gave info, he said he will revert in 1hr 30/8/prema: planning for next month, share details\n",
      "1\n"
     ]
    }
   ],
   "source": [
    "print(df[\"Status information\"][4])\n",
    "print(df[\"Status \"][4])"
   ]
  },
  {
   "cell_type": "code",
   "execution_count": null,
   "metadata": {},
   "outputs": [],
   "source": []
  },
  {
   "cell_type": "code",
   "execution_count": 88,
   "metadata": {
    "id": "C83IgO3IXu8O"
   },
   "outputs": [],
   "source": [
    "def topic_model():\n",
    "    user_mgs = input(\"Enter your mgs: \")\n",
    "    x = preprocess(user_mgs)\n",
    "    x = cv.transform([x])\n",
    "    lda_x = lda_model.transform(x)\n",
    "    tpic = []\n",
    "    tpc = lambda x : \"not interested\" if x == 0 else \"interested\"\n",
    "    for i,topic in enumerate(lda_x[0]):\n",
    "        print(\"Topic \",i,\": \",topic*100,\"%\")\n",
    "        tpc_name = tpc(i)\n",
    "        prc = topic*100\n",
    "        tpic.append([tpc_name,prc])\n",
    "    return tpic"
   ]
  },
  {
   "cell_type": "code",
   "execution_count": 89,
   "metadata": {
    "colab": {
     "base_uri": "https://localhost:8080/"
    },
    "id": "WJEEmIEepXdW",
    "outputId": "0b62e6f5-9755-43a1-f3e8-c51c09f630db"
   },
   "outputs": [
    {
     "name": "stdout",
     "output_type": "stream",
     "text": [
      "15/6/17(gowtham)Details shrd 17/6/17(gowtham)RNR 19/6/17(gowtham)cutcall 19/6/17(gowtham)RNR 20/6/17(gowtham)Tim nedded i will tell u\n",
      "0\n"
     ]
    }
   ],
   "source": [
    "print(df[\"Status information\"][600])\n",
    "print(df[\"Status \"][600])"
   ]
  },
  {
   "cell_type": "code",
   "execution_count": 90,
   "metadata": {
    "colab": {
     "base_uri": "https://localhost:8080/"
    },
    "id": "lzPmM5SsgDMj",
    "outputId": "b0821881-6898-408e-8fdd-18a56d90dc97",
    "scrolled": true
   },
   "outputs": [
    {
     "name": "stdout",
     "output_type": "stream",
     "text": [
      "Enter your mgs: 15/6/17(gowtham)Details shrd 17/6/17(gowtham)RNR 19/6/17(gowtham)cutcall 19/6/17(gowtham)RNR 20/6/17(gowtham)Tim nedded i will tell u\n",
      "Topic  0 :  83.08866400064964 %\n",
      "Topic  1 :  16.911335999350346 %\n"
     ]
    }
   ],
   "source": [
    "my_topic = topic_model()"
   ]
  },
  {
   "cell_type": "code",
   "execution_count": 96,
   "metadata": {
    "colab": {
     "base_uri": "https://localhost:8080/"
    },
    "id": "d5ntPc72xoIq",
    "outputId": "3edbe5f4-7ecc-430a-fe97-f4b74badc7fe"
   },
   "outputs": [
    {
     "name": "stdout",
     "output_type": "stream",
     "text": [
      "12/7/17(prema): unable to connect due to network issue 20/7/17(prema): shared details, will check n revert 24/7/17(prema): cal @ 6pm 25/7/prema: share me demo details if psbl wil attend\n",
      "1\n"
     ]
    }
   ],
   "source": [
    "print(df_upsampled[\"Status information\"][304])\n",
    "print(df_upsampled[\"Status \"][304])"
   ]
  },
  {
   "cell_type": "code",
   "execution_count": 97,
   "metadata": {},
   "outputs": [
    {
     "name": "stdout",
     "output_type": "stream",
     "text": [
      "Enter your mgs: 12/7/17(prema): unable to connect due to network issue 20/7/17(prema): shared details, will check n revert 24/7/17(prema): cal @ 6pm 25/7/prema: share me demo details if psbl wil attend\n",
      "Topic  0 :  5.453252772820928 %\n",
      "Topic  1 :  94.54674722717907 %\n"
     ]
    },
    {
     "data": {
      "text/plain": [
       "[['not interested', 5.453252772820928], ['interested', 94.54674722717907]]"
      ]
     },
     "execution_count": 97,
     "metadata": {},
     "output_type": "execute_result"
    }
   ],
   "source": [
    "topic_model()"
   ]
  },
  {
   "cell_type": "markdown",
   "metadata": {
    "id": "Spv4qSob4Cj1"
   },
   "source": [
    "# Classification modeling"
   ]
  },
  {
   "cell_type": "code",
   "execution_count": 98,
   "metadata": {
    "colab": {
     "base_uri": "https://localhost:8080/",
     "height": 206
    },
    "id": "Kl3jT-KQ4ITh",
    "outputId": "0795871b-beca-4d2e-f825-bd6776496873"
   },
   "outputs": [
    {
     "data": {
      "text/html": [
       "<div>\n",
       "<style scoped>\n",
       "    .dataframe tbody tr th:only-of-type {\n",
       "        vertical-align: middle;\n",
       "    }\n",
       "\n",
       "    .dataframe tbody tr th {\n",
       "        vertical-align: top;\n",
       "    }\n",
       "\n",
       "    .dataframe thead th {\n",
       "        text-align: right;\n",
       "    }\n",
       "</style>\n",
       "<table border=\"1\" class=\"dataframe\">\n",
       "  <thead>\n",
       "    <tr style=\"text-align: right;\">\n",
       "      <th></th>\n",
       "      <th>Lead Name</th>\n",
       "      <th>Location</th>\n",
       "      <th>Status</th>\n",
       "      <th>Status information</th>\n",
       "      <th>Country</th>\n",
       "      <th>num_char</th>\n",
       "      <th>num_words</th>\n",
       "      <th>cleaned_txt</th>\n",
       "    </tr>\n",
       "  </thead>\n",
       "  <tbody>\n",
       "    <tr>\n",
       "      <th>0</th>\n",
       "      <td>Raja</td>\n",
       "      <td>16</td>\n",
       "      <td>1</td>\n",
       "      <td>14/8/prema: share me details, available in evn...</td>\n",
       "      <td>india</td>\n",
       "      <td>133</td>\n",
       "      <td>18</td>\n",
       "      <td>share detail available evng postponed plan tra...</td>\n",
       "    </tr>\n",
       "    <tr>\n",
       "      <th>1</th>\n",
       "      <td>Anirudh Reddy</td>\n",
       "      <td>35</td>\n",
       "      <td>1</td>\n",
       "      <td>14/8/prema: cal me tmrw, shared details to ema...</td>\n",
       "      <td>india</td>\n",
       "      <td>171</td>\n",
       "      <td>27</td>\n",
       "      <td>cal tmrw shared detail email share detail emai...</td>\n",
       "    </tr>\n",
       "    <tr>\n",
       "      <th>3</th>\n",
       "      <td>suresh</td>\n",
       "      <td>27</td>\n",
       "      <td>1</td>\n",
       "      <td>14/8/17(Surendra):i want only Server 16|AuG|mo...</td>\n",
       "      <td>india</td>\n",
       "      <td>86</td>\n",
       "      <td>13</td>\n",
       "      <td>want server cal busy reg server</td>\n",
       "    </tr>\n",
       "    <tr>\n",
       "      <th>4</th>\n",
       "      <td>Akshay Shinde</td>\n",
       "      <td>16</td>\n",
       "      <td>1</td>\n",
       "      <td>14/8/prema:rnr 16/8/prema: gave info, he said ...</td>\n",
       "      <td>india</td>\n",
       "      <td>118</td>\n",
       "      <td>19</td>\n",
       "      <td>rnr gave info said revert hr planning next mon...</td>\n",
       "    </tr>\n",
       "    <tr>\n",
       "      <th>5</th>\n",
       "      <td>Karthik</td>\n",
       "      <td>27</td>\n",
       "      <td>1</td>\n",
       "      <td>12/8/17(Surendra):i will check demo(attended d...</td>\n",
       "      <td>india</td>\n",
       "      <td>161</td>\n",
       "      <td>25</td>\n",
       "      <td>check demo attended demo get back think respon...</td>\n",
       "    </tr>\n",
       "  </tbody>\n",
       "</table>\n",
       "</div>"
      ],
      "text/plain": [
       "       Lead Name  Location  Status   \\\n",
       "0           Raja        16        1   \n",
       "1  Anirudh Reddy        35        1   \n",
       "3         suresh        27        1   \n",
       "4  Akshay Shinde        16        1   \n",
       "5        Karthik        27        1   \n",
       "\n",
       "                                  Status information Country  num_char  \\\n",
       "0  14/8/prema: share me details, available in evn...   india       133   \n",
       "1  14/8/prema: cal me tmrw, shared details to ema...   india       171   \n",
       "3  14/8/17(Surendra):i want only Server 16|AuG|mo...   india        86   \n",
       "4  14/8/prema:rnr 16/8/prema: gave info, he said ...   india       118   \n",
       "5  12/8/17(Surendra):i will check demo(attended d...   india       161   \n",
       "\n",
       "   num_words                                        cleaned_txt  \n",
       "0         18  share detail available evng postponed plan tra...  \n",
       "1         27  cal tmrw shared detail email share detail emai...  \n",
       "3         13                    want server cal busy reg server  \n",
       "4         19  rnr gave info said revert hr planning next mon...  \n",
       "5         25  check demo attended demo get back think respon...  "
      ]
     },
     "execution_count": 98,
     "metadata": {},
     "output_type": "execute_result"
    }
   ],
   "source": [
    "df_upsampled.head()"
   ]
  },
  {
   "cell_type": "code",
   "execution_count": 99,
   "metadata": {
    "id": "nix0a6g_a18d"
   },
   "outputs": [],
   "source": [
    "add_col = df_upsampled[\"Location\"].values.reshape(-1,1)"
   ]
  },
  {
   "cell_type": "code",
   "execution_count": 100,
   "metadata": {},
   "outputs": [],
   "source": [
    "tf = TfidfVectorizer(max_features=700)\n",
    "vector_txt1 = tf.fit_transform(df_upsampled[\"cleaned_txt\"])"
   ]
  },
  {
   "cell_type": "code",
   "execution_count": 101,
   "metadata": {
    "colab": {
     "base_uri": "https://localhost:8080/"
    },
    "id": "Gcb_8_9sbSCy",
    "outputId": "f2fa2489-4e6e-4815-c805-38bf8fcf3f78"
   },
   "outputs": [
    {
     "data": {
      "text/plain": [
       "(1445, 700)"
      ]
     },
     "execution_count": 101,
     "metadata": {},
     "output_type": "execute_result"
    }
   ],
   "source": [
    "vector_txt1.toarray().shape"
   ]
  },
  {
   "cell_type": "code",
   "execution_count": 102,
   "metadata": {
    "id": "GZs6ZtX8-UXo"
   },
   "outputs": [],
   "source": [
    "x = vector_txt1.toarray()\n",
    "y = df_upsampled[\"Status \"]"
   ]
  },
  {
   "cell_type": "code",
   "execution_count": 103,
   "metadata": {
    "colab": {
     "base_uri": "https://localhost:8080/"
    },
    "id": "R2do14YY-jNR",
    "outputId": "efc371aa-118f-4586-9d1b-3034f72eec08"
   },
   "outputs": [
    {
     "name": "stdout",
     "output_type": "stream",
     "text": [
      "(1156, 700)\n",
      "(289, 700)\n",
      "(1156,)\n",
      "(289,)\n"
     ]
    }
   ],
   "source": [
    "# train, test split\n",
    "from sklearn.model_selection import train_test_split\n",
    "x_train, x_test, y_train, y_test = train_test_split(x,y, test_size=0.2, random_state=30)\n",
    "for i in [x_train, x_test, y_train, y_test]:\n",
    "    print(i.shape)"
   ]
  },
  {
   "cell_type": "code",
   "execution_count": 104,
   "metadata": {
    "id": "f2jRbary_CA5"
   },
   "outputs": [],
   "source": [
    "from sklearn.metrics import confusion_matrix, classification_report, accuracy_score, precision_score\n",
    "from sklearn.naive_bayes import BernoulliNB, MultinomialNB, GaussianNB\n",
    "from sklearn.svm import SVC\n",
    "from sklearn.ensemble import RandomForestClassifier, AdaBoostClassifier, ExtraTreesClassifier, GradientBoostingClassifier\n",
    "from sklearn.linear_model import LogisticRegression"
   ]
  },
  {
   "cell_type": "code",
   "execution_count": 105,
   "metadata": {
    "id": "rktuBTI-dNYJ"
   },
   "outputs": [],
   "source": [
    "results = dict()\n",
    "results[\"Algorithm\"] = []\n",
    "results[\"Accuracy\"] = []\n",
    "results[\"Precision\"] = []"
   ]
  },
  {
   "cell_type": "code",
   "execution_count": 106,
   "metadata": {
    "colab": {
     "base_uri": "https://localhost:8080/"
    },
    "id": "jgnzrfMG_PFW",
    "outputId": "9e1b6b66-392e-4ba4-dbfc-ad873a45d749"
   },
   "outputs": [
    {
     "name": "stdout",
     "output_type": "stream",
     "text": [
      "Algo: BernoulliNB()\n",
      "acc: 0.7508650519031141\n",
      "\n",
      "-------------------------------------------------------\n",
      "[[ 70  59]\n",
      " [ 13 147]]\n",
      "\n",
      "-------------------------------------------------------\n",
      "              precision    recall  f1-score   support\n",
      "\n",
      "           0       0.84      0.54      0.66       129\n",
      "           1       0.71      0.92      0.80       160\n",
      "\n",
      "    accuracy                           0.75       289\n",
      "   macro avg       0.78      0.73      0.73       289\n",
      "weighted avg       0.77      0.75      0.74       289\n",
      "\n",
      "\n",
      "Algo: MultinomialNB()\n",
      "acc: 0.7958477508650519\n",
      "\n",
      "-------------------------------------------------------\n",
      "[[ 76  53]\n",
      " [  6 154]]\n",
      "\n",
      "-------------------------------------------------------\n",
      "              precision    recall  f1-score   support\n",
      "\n",
      "           0       0.93      0.59      0.72       129\n",
      "           1       0.74      0.96      0.84       160\n",
      "\n",
      "    accuracy                           0.80       289\n",
      "   macro avg       0.84      0.78      0.78       289\n",
      "weighted avg       0.83      0.80      0.79       289\n",
      "\n",
      "\n",
      "Algo: GaussianNB()\n",
      "acc: 0.7058823529411765\n",
      "\n",
      "-------------------------------------------------------\n",
      "[[126   3]\n",
      " [ 82  78]]\n",
      "\n",
      "-------------------------------------------------------\n",
      "              precision    recall  f1-score   support\n",
      "\n",
      "           0       0.61      0.98      0.75       129\n",
      "           1       0.96      0.49      0.65       160\n",
      "\n",
      "    accuracy                           0.71       289\n",
      "   macro avg       0.78      0.73      0.70       289\n",
      "weighted avg       0.80      0.71      0.69       289\n",
      "\n",
      "\n"
     ]
    }
   ],
   "source": [
    "for i in [BernoulliNB(), MultinomialNB(), GaussianNB()]:\n",
    "    model = i.fit(x_train, y_train)\n",
    "    y_pred = model.predict(x_test)\n",
    "    acc = accuracy_score(y_test, y_pred)\n",
    "    con_m = confusion_matrix(y_test, y_pred)\n",
    "    c_r = classification_report(y_test, y_pred)\n",
    "    p_s = precision_score(y_test, y_pred)\n",
    "    print(f\"Algo: {i}\")\n",
    "    print(f\"acc: {acc}\\n\")\n",
    "    print(\"-\"*55)\n",
    "    print(f\"{con_m}\\n\")\n",
    "    print(\"-\"*55)\n",
    "    print(f\"{c_r}\\n\")\n",
    "    results[\"Algorithm\"].append(i)\n",
    "    results[\"Accuracy\"].append(acc)\n",
    "    results[\"Precision\"].append(p_s)"
   ]
  },
  {
   "cell_type": "markdown",
   "metadata": {
    "id": "9KpU08RBWvuj"
   },
   "source": [
    "# Ensembling technique"
   ]
  },
  {
   "cell_type": "code",
   "execution_count": 107,
   "metadata": {
    "colab": {
     "base_uri": "https://localhost:8080/"
    },
    "id": "pZA0IRWYW0rr",
    "outputId": "39f19b45-08cd-45e2-a217-63e5f87b846d"
   },
   "outputs": [
    {
     "name": "stdout",
     "output_type": "stream",
     "text": [
      "Algo: ExtraTreesClassifier()\n",
      "acc: 0.9688581314878892\n",
      "\n",
      "-------------------------------------------------------\n",
      "[[124   5]\n",
      " [  4 156]]\n",
      "\n",
      "-------------------------------------------------------\n",
      "              precision    recall  f1-score   support\n",
      "\n",
      "           0       0.97      0.96      0.96       129\n",
      "           1       0.97      0.97      0.97       160\n",
      "\n",
      "    accuracy                           0.97       289\n",
      "   macro avg       0.97      0.97      0.97       289\n",
      "weighted avg       0.97      0.97      0.97       289\n",
      "\n",
      "\n",
      "Algo: RandomForestClassifier()\n",
      "acc: 0.9688581314878892\n",
      "\n",
      "-------------------------------------------------------\n",
      "[[124   5]\n",
      " [  4 156]]\n",
      "\n",
      "-------------------------------------------------------\n",
      "              precision    recall  f1-score   support\n",
      "\n",
      "           0       0.97      0.96      0.96       129\n",
      "           1       0.97      0.97      0.97       160\n",
      "\n",
      "    accuracy                           0.97       289\n",
      "   macro avg       0.97      0.97      0.97       289\n",
      "weighted avg       0.97      0.97      0.97       289\n",
      "\n",
      "\n",
      "Algo: AdaBoostClassifier()\n",
      "acc: 0.726643598615917\n",
      "\n",
      "-------------------------------------------------------\n",
      "[[ 73  56]\n",
      " [ 23 137]]\n",
      "\n",
      "-------------------------------------------------------\n",
      "              precision    recall  f1-score   support\n",
      "\n",
      "           0       0.76      0.57      0.65       129\n",
      "           1       0.71      0.86      0.78       160\n",
      "\n",
      "    accuracy                           0.73       289\n",
      "   macro avg       0.74      0.71      0.71       289\n",
      "weighted avg       0.73      0.73      0.72       289\n",
      "\n",
      "\n",
      "Algo: GradientBoostingClassifier()\n",
      "acc: 0.8477508650519031\n",
      "\n",
      "-------------------------------------------------------\n",
      "[[ 93  36]\n",
      " [  8 152]]\n",
      "\n",
      "-------------------------------------------------------\n",
      "              precision    recall  f1-score   support\n",
      "\n",
      "           0       0.92      0.72      0.81       129\n",
      "           1       0.81      0.95      0.87       160\n",
      "\n",
      "    accuracy                           0.85       289\n",
      "   macro avg       0.86      0.84      0.84       289\n",
      "weighted avg       0.86      0.85      0.84       289\n",
      "\n",
      "\n"
     ]
    }
   ],
   "source": [
    "for i in [ExtraTreesClassifier(), RandomForestClassifier(), AdaBoostClassifier(), GradientBoostingClassifier()]:\n",
    "    model = i.fit(x_train, y_train)\n",
    "    y_pred = model.predict(x_test)\n",
    "    acc = accuracy_score(y_test, y_pred)\n",
    "    con_m = confusion_matrix(y_test, y_pred)\n",
    "    c_r = classification_report(y_test, y_pred)\n",
    "    p_s = precision_score(y_test, y_pred)\n",
    "    print(f\"Algo: {i}\")\n",
    "    print(f\"acc: {acc}\\n\")\n",
    "    print(\"-\"*55)\n",
    "    print(f\"{con_m}\\n\")\n",
    "    print(\"-\"*55)\n",
    "    print(f\"{c_r}\\n\")\n",
    "    results[\"Algorithm\"].append(i)\n",
    "    results[\"Accuracy\"].append(acc)\n",
    "    results[\"Precision\"].append(p_s)"
   ]
  },
  {
   "cell_type": "markdown",
   "metadata": {
    "id": "g1HjQt2-XlaK"
   },
   "source": [
    "# SMV Classifier & Logistic Reg"
   ]
  },
  {
   "cell_type": "code",
   "execution_count": 108,
   "metadata": {
    "colab": {
     "base_uri": "https://localhost:8080/"
    },
    "id": "pw91toNwXnpL",
    "outputId": "329f93b7-cb87-4458-cc32-6fda1302c7bf"
   },
   "outputs": [
    {
     "name": "stdout",
     "output_type": "stream",
     "text": [
      "Algo: SVC()\n",
      "acc: 0.9342560553633218\n",
      "\n",
      "-------------------------------------------------------\n",
      "[[118  11]\n",
      " [  8 152]]\n",
      "\n",
      "-------------------------------------------------------\n",
      "              precision    recall  f1-score   support\n",
      "\n",
      "           0       0.94      0.91      0.93       129\n",
      "           1       0.93      0.95      0.94       160\n",
      "\n",
      "    accuracy                           0.93       289\n",
      "   macro avg       0.93      0.93      0.93       289\n",
      "weighted avg       0.93      0.93      0.93       289\n",
      "\n",
      "\n",
      "Algo: LogisticRegression(max_iter=1000)\n",
      "acc: 0.8200692041522492\n",
      "\n",
      "-------------------------------------------------------\n",
      "[[ 87  42]\n",
      " [ 10 150]]\n",
      "\n",
      "-------------------------------------------------------\n",
      "              precision    recall  f1-score   support\n",
      "\n",
      "           0       0.90      0.67      0.77       129\n",
      "           1       0.78      0.94      0.85       160\n",
      "\n",
      "    accuracy                           0.82       289\n",
      "   macro avg       0.84      0.81      0.81       289\n",
      "weighted avg       0.83      0.82      0.82       289\n",
      "\n",
      "\n"
     ]
    }
   ],
   "source": [
    "for i in [SVC(), LogisticRegression(max_iter=1000)]:\n",
    "  model = i.fit(x_train, y_train)\n",
    "  y_pred = model.predict(x_test)\n",
    "  acc = accuracy_score(y_test, y_pred)\n",
    "  con_m = confusion_matrix(y_test, y_pred)\n",
    "  c_r = classification_report(y_test, y_pred)\n",
    "  p_s = precision_score(y_test, y_pred)\n",
    "  print(f\"Algo: {i}\")\n",
    "  print(f\"acc: {acc}\\n\")\n",
    "  print(\"-\"*55)\n",
    "  print(f\"{con_m}\\n\")\n",
    "  print(\"-\"*55)\n",
    "  print(f\"{c_r}\\n\")\n",
    "  results[\"Algorithm\"].append(i)\n",
    "  results[\"Accuracy\"].append(acc)\n",
    "  results[\"Precision\"].append(p_s)"
   ]
  },
  {
   "cell_type": "code",
   "execution_count": null,
   "metadata": {
    "colab": {
     "base_uri": "https://localhost:8080/",
     "height": 331
    },
    "id": "if09tQTPj5H-",
    "outputId": "667e6f6f-4cb4-4229-9611-fcd25bb3f7fc"
   },
   "outputs": [],
   "source": [
    "pd.DataFrame(results)"
   ]
  },
  {
   "cell_type": "markdown",
   "metadata": {
    "id": "FGFXFaWe1QqC"
   },
   "source": [
    "# Classification system"
   ]
  },
  {
   "cell_type": "code",
   "execution_count": 109,
   "metadata": {
    "colab": {
     "base_uri": "https://localhost:8080/"
    },
    "id": "ZnfnZLCa4JhO",
    "outputId": "b4a1faef-24fe-4bb1-8bed-806f981f2145"
   },
   "outputs": [
    {
     "name": "stdout",
     "output_type": "stream",
     "text": [
      "Algo: ExtraTreesClassifier()\n",
      "acc: 0.9619377162629758\n",
      "\n",
      "-------------------------------------------------------\n",
      "[[124   5]\n",
      " [  6 154]]\n",
      "\n",
      "-------------------------------------------------------\n",
      "              precision    recall  f1-score   support\n",
      "\n",
      "           0       0.95      0.96      0.96       129\n",
      "           1       0.97      0.96      0.97       160\n",
      "\n",
      "    accuracy                           0.96       289\n",
      "   macro avg       0.96      0.96      0.96       289\n",
      "weighted avg       0.96      0.96      0.96       289\n",
      "\n",
      "\n"
     ]
    }
   ],
   "source": [
    "  model = ExtraTreesClassifier()\n",
    "  model.fit(x_train, y_train)\n",
    "  y_pred = model.predict(x_test)\n",
    "  acc = accuracy_score(y_test, y_pred)\n",
    "  con_m = confusion_matrix(y_test, y_pred)\n",
    "  c_r = classification_report(y_test, y_pred)\n",
    "  p_s = precision_score(y_test, y_pred)\n",
    "  print(f\"Algo: {model}\")\n",
    "  print(f\"acc: {acc}\\n\")\n",
    "  print(\"-\"*55)\n",
    "  print(f\"{con_m}\\n\")\n",
    "  print(\"-\"*55)\n",
    "  print(f\"{c_r}\\n\")"
   ]
  },
  {
   "cell_type": "code",
   "execution_count": 110,
   "metadata": {
    "colab": {
     "base_uri": "https://localhost:8080/"
    },
    "id": "m_66J2tN8K6e",
    "outputId": "be184fdc-63a5-425e-dce3-0b2b18e43804"
   },
   "outputs": [
    {
     "name": "stdout",
     "output_type": "stream",
     "text": [
      "Algo: SVC()\n",
      "acc: 0.9342560553633218\n",
      "\n",
      "-------------------------------------------------------\n",
      "[[118  11]\n",
      " [  8 152]]\n",
      "\n",
      "-------------------------------------------------------\n",
      "              precision    recall  f1-score   support\n",
      "\n",
      "           0       0.94      0.91      0.93       129\n",
      "           1       0.93      0.95      0.94       160\n",
      "\n",
      "    accuracy                           0.93       289\n",
      "   macro avg       0.93      0.93      0.93       289\n",
      "weighted avg       0.93      0.93      0.93       289\n",
      "\n",
      "\n"
     ]
    }
   ],
   "source": [
    "  model2 = SVC()\n",
    "  model2.fit(x_train, y_train)\n",
    "  y_pred = model2.predict(x_test)\n",
    "  acc = accuracy_score(y_test, y_pred)\n",
    "  con_m = confusion_matrix(y_test, y_pred)\n",
    "  c_r = classification_report(y_test, y_pred)\n",
    "  p_s = precision_score(y_test, y_pred)\n",
    "  print(f\"Algo: {model2}\")\n",
    "  print(f\"acc: {acc}\\n\")\n",
    "  print(\"-\"*55)\n",
    "  print(f\"{con_m}\\n\")\n",
    "  print(\"-\"*55)\n",
    "  print(f\"{c_r}\\n\")"
   ]
  },
  {
   "cell_type": "code",
   "execution_count": 111,
   "metadata": {
    "colab": {
     "base_uri": "https://localhost:8080/"
    },
    "id": "vz5XzeuTjbS5",
    "outputId": "2785a765-3a27-4e48-e921-afad381b202b"
   },
   "outputs": [
    {
     "name": "stdout",
     "output_type": "stream",
     "text": [
      "Algo: GaussianNB()\n",
      "acc: 0.7058823529411765\n",
      "\n",
      "-------------------------------------------------------\n",
      "[[126   3]\n",
      " [ 82  78]]\n",
      "\n",
      "-------------------------------------------------------\n",
      "              precision    recall  f1-score   support\n",
      "\n",
      "           0       0.61      0.98      0.75       129\n",
      "           1       0.96      0.49      0.65       160\n",
      "\n",
      "    accuracy                           0.71       289\n",
      "   macro avg       0.78      0.73      0.70       289\n",
      "weighted avg       0.80      0.71      0.69       289\n",
      "\n",
      "\n"
     ]
    }
   ],
   "source": [
    "# gaussain NB\n",
    "model3 = GaussianNB()\n",
    "model3.fit(x_train, y_train)\n",
    "y_pred = model3.predict(x_test)\n",
    "acc = accuracy_score(y_test, y_pred)\n",
    "con_m = confusion_matrix(y_test, y_pred)\n",
    "c_r = classification_report(y_test, y_pred)\n",
    "p_s = precision_score(y_test, y_pred)\n",
    "print(f\"Algo: {model3}\")\n",
    "print(f\"acc: {acc}\\n\")\n",
    "print(\"-\"*55)\n",
    "print(f\"{con_m}\\n\")\n",
    "print(\"-\"*55)\n",
    "print(f\"{c_r}\\n\")"
   ]
  },
  {
   "cell_type": "code",
   "execution_count": 113,
   "metadata": {
    "colab": {
     "base_uri": "https://localhost:8080/"
    },
    "id": "AuUaBqm8oTuk",
    "outputId": "79394dfd-d8ae-434c-95dc-cd4b62636288"
   },
   "outputs": [
    {
     "name": "stdout",
     "output_type": "stream",
     "text": [
      "Algo: MultinomialNB()\n",
      "acc: 0.7958477508650519\n",
      "\n",
      "-------------------------------------------------------\n",
      "[[ 76  53]\n",
      " [  6 154]]\n",
      "\n",
      "-------------------------------------------------------\n",
      "              precision    recall  f1-score   support\n",
      "\n",
      "           0       0.93      0.59      0.72       129\n",
      "           1       0.74      0.96      0.84       160\n",
      "\n",
      "    accuracy                           0.80       289\n",
      "   macro avg       0.84      0.78      0.78       289\n",
      "weighted avg       0.83      0.80      0.79       289\n",
      "\n",
      "\n"
     ]
    }
   ],
   "source": [
    "# multinomial\n",
    "model4 = MultinomialNB()\n",
    "model4.fit(x_train, y_train)\n",
    "y_pred = model4.predict(x_test)\n",
    "acc = accuracy_score(y_test, y_pred)\n",
    "con_m = confusion_matrix(y_test, y_pred)\n",
    "c_r = classification_report(y_test, y_pred)\n",
    "p_s = precision_score(y_test, y_pred)\n",
    "print(f\"Algo: {model4}\")\n",
    "print(f\"acc: {acc}\\n\")\n",
    "print(\"-\"*55)\n",
    "print(f\"{con_m}\\n\")\n",
    "print(\"-\"*55)\n",
    "print(f\"{c_r}\\n\")"
   ]
  },
  {
   "cell_type": "code",
   "execution_count": 114,
   "metadata": {
    "id": "jpivH1af1SkZ"
   },
   "outputs": [],
   "source": [
    "#classification system\n",
    "def Status(user):\n",
    "  x = user\n",
    "  x = preprocess(x)\n",
    "  x = tf.transform([x])\n",
    "  x = model3.predict(x.toarray())\n",
    "  if x == 1:\n",
    "    return \"Not Convertable\"\n",
    "  else:\n",
    "    return \"Convertable\""
   ]
  },
  {
   "cell_type": "code",
   "execution_count": 116,
   "metadata": {
    "colab": {
     "base_uri": "https://localhost:8080/",
     "height": 52
    },
    "id": "IMfb1bQq2EwG",
    "outputId": "471db759-e775-451c-d1da-4e131699c1d2"
   },
   "outputs": [
    {
     "name": "stdout",
     "output_type": "stream",
     "text": [
      "14/8/prema:rnr 16/8/prema: gave info, he said he will revert in 1hr 30/8/prema: planning for next month, share details\n"
     ]
    },
    {
     "data": {
      "text/plain": [
       "'Not Convertable'"
      ]
     },
     "execution_count": 116,
     "metadata": {},
     "output_type": "execute_result"
    }
   ],
   "source": [
    "mgs = input()\n",
    "Status(mgs)"
   ]
  },
  {
   "cell_type": "markdown",
   "metadata": {
    "id": "H-U1IBC5nn2a"
   },
   "source": [
    "# Pickle files"
   ]
  },
  {
   "cell_type": "code",
   "execution_count": 117,
   "metadata": {
    "id": "nGezDEyInqC9"
   },
   "outputs": [],
   "source": [
    "import pickle\n",
    "pickle.dump(cv, open(\"cv_vectorizer.pkl\", \"wb\"))\n",
    "pickle.dump(lda_model, open(\"lda_model.pkl\", \"wb\"))"
   ]
  },
  {
   "cell_type": "code",
   "execution_count": 118,
   "metadata": {
    "id": "HfpL5Frvs4HR"
   },
   "outputs": [],
   "source": [
    "pickle.dump(stop_words2, open(\"stopwords.pkl\",\"wb\"))"
   ]
  },
  {
   "cell_type": "code",
   "execution_count": 120,
   "metadata": {
    "id": "jQORlP3-hszm"
   },
   "outputs": [],
   "source": [
    "# pickling for classification POC\n",
    "import pickle\n",
    "pickle.dump(tf, open(\"tf_vectorizer.pkl\",\"wb\"))\n",
    "pickle.dump(model, open(\"XtraTree.pkl\",\"wb\"))"
   ]
  },
  {
   "cell_type": "code",
   "execution_count": null,
   "metadata": {},
   "outputs": [],
   "source": []
  }
 ],
 "metadata": {
  "colab": {
   "collapsed_sections": [
    "UkvYO15OyeQ_",
    "M9Q4xdIETHD5"
   ],
   "name": "CRM EDA(NLP).ipynb",
   "provenance": []
  },
  "kernelspec": {
   "display_name": "Python 3 (ipykernel)",
   "language": "python",
   "name": "python3"
  },
  "language_info": {
   "codemirror_mode": {
    "name": "ipython",
    "version": 3
   },
   "file_extension": ".py",
   "mimetype": "text/x-python",
   "name": "python",
   "nbconvert_exporter": "python",
   "pygments_lexer": "ipython3",
   "version": "3.9.7"
  }
 },
 "nbformat": 4,
 "nbformat_minor": 1
}
